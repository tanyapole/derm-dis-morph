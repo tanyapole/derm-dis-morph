{
 "cells": [
  {
   "cell_type": "code",
   "execution_count": 1,
   "id": "animated-experience",
   "metadata": {},
   "outputs": [],
   "source": [
    "from pathlib import Path"
   ]
  },
  {
   "cell_type": "code",
   "execution_count": 4,
   "id": "appointed-accordance",
   "metadata": {},
   "outputs": [],
   "source": [
    "pt  = Path('../_data_lbls')"
   ]
  },
  {
   "cell_type": "code",
   "execution_count": 5,
   "id": "knowing-raleigh",
   "metadata": {},
   "outputs": [],
   "source": [
    "pt.mkdir()"
   ]
  },
  {
   "cell_type": "code",
   "execution_count": null,
   "id": "prompt-rating",
   "metadata": {},
   "outputs": [],
   "source": []
  }
 ],
 "metadata": {
  "kernelspec": {
   "display_name": "derm-dis-morph",
   "language": "python",
   "name": "derm-dis-morph"
  },
  "language_info": {
   "codemirror_mode": {
    "name": "ipython",
    "version": 3
   },
   "file_extension": ".py",
   "mimetype": "text/x-python",
   "name": "python",
   "nbconvert_exporter": "python",
   "pygments_lexer": "ipython3",
   "version": "3.6.12"
  }
 },
 "nbformat": 4,
 "nbformat_minor": 5
}
