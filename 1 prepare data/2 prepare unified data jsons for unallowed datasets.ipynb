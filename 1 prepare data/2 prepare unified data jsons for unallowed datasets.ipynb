{
 "cells": [
  {
   "cell_type": "code",
   "execution_count": 1,
   "id": "historical-superior",
   "metadata": {},
   "outputs": [],
   "source": [
    "import os\n",
    "import pickle \n",
    "import pandas as pd\n",
    "import numpy as np\n",
    "from PIL import Image\n",
    "from shutil import copyfile\n",
    "import pickle\n",
    "from tqdm.auto import tqdm\n",
    "from pathlib import Path"
   ]
  },
  {
   "cell_type": "code",
   "execution_count": 2,
   "id": "pointed-method",
   "metadata": {},
   "outputs": [],
   "source": [
    "data_folder = Path('/mnt/tank/scratch/tpolevaya/my_work/students/coursework/_data')"
   ]
  },
  {
   "cell_type": "code",
   "execution_count": 4,
   "id": "inclusive-combat",
   "metadata": {},
   "outputs": [],
   "source": [
    "lbl_folder = Path('../_data_lbls')"
   ]
  },
  {
   "cell_type": "code",
   "execution_count": 5,
   "id": "medieval-share",
   "metadata": {},
   "outputs": [],
   "source": [
    "with open(lbl_folder / 'mapping_diseases.pkl', 'rb') as f: list_ds = pickle.load(f)\n",
    "with open(lbl_folder / 'mapping_morph.pkl', 'rb') as f: list_ms = pickle.load(f)"
   ]
  },
  {
   "cell_type": "code",
   "execution_count": 6,
   "id": "equipped-pregnancy",
   "metadata": {},
   "outputs": [],
   "source": [
    "list_ds_2 = [[el.lower().strip() for el in L] for L in list_ds]\n",
    "list_ms_2 = [[el.lower().strip() for el in L] for L in list_ms]"
   ]
  },
  {
   "cell_type": "code",
   "execution_count": 7,
   "id": "democratic-crisis",
   "metadata": {},
   "outputs": [],
   "source": [
    "# ts = list(filter(lambda x: x.strip().startswith('with'), ts))\n",
    "# ts = list(map(lambda x: x.split(\"'\")[1], ts))\n",
    "# allowed_pickles = ts"
   ]
  },
  {
   "cell_type": "code",
   "execution_count": 8,
   "id": "floral-palestine",
   "metadata": {},
   "outputs": [],
   "source": [
    "with open(data_folder / 'chicago/image_chicago.pickle', 'rb') as f:\n",
    "    chicago = pickle.load(f)\n",
    "with open(data_folder / 'dermis/image_dermis.pickle', 'rb') as f:\n",
    "    dermis = pickle.load(f)\n",
    "with open(data_folder / 'dermnet/image_dermnet.pickle', 'rb') as f:\n",
    "    dermnet = pickle.load(f)\n",
    "with open(data_folder / 'iowa/image_iowa.pickle', 'rb') as f:\n",
    "    iowa = pickle.load(f)"
   ]
  },
  {
   "cell_type": "code",
   "execution_count": 49,
   "id": "split-vacation",
   "metadata": {},
   "outputs": [],
   "source": [
    "def get_disease_idx(name):\n",
    "    if name is None: return -1\n",
    "    name = name.lower().strip()\n",
    "    for i, L in enumerate(list_ds_2):\n",
    "        if name in L:\n",
    "            return i\n",
    "    return -1\n",
    "def get_morph_idxs(names):\n",
    "    names = [n.lower().strip() for n in names.split(',')]\n",
    "    res = []\n",
    "    for i, L in enumerate(list_ms_2):\n",
    "        if len(set(names).intersection(set(L))) > 0:\n",
    "            res.append(i)\n",
    "    return res"
   ]
  },
  {
   "cell_type": "code",
   "execution_count": 10,
   "id": "classified-designer",
   "metadata": {},
   "outputs": [
    {
     "data": {
      "text/plain": [
       "2"
      ]
     },
     "execution_count": 10,
     "metadata": {},
     "output_type": "execute_result"
    }
   ],
   "source": [
    "get_disease_idx(' psorIAsis ')"
   ]
  },
  {
   "cell_type": "code",
   "execution_count": 11,
   "id": "understanding-sentence",
   "metadata": {},
   "outputs": [
    {
     "data": {
      "text/plain": [
       "[1, 2, 3]"
      ]
     },
     "execution_count": 11,
     "metadata": {},
     "output_type": "execute_result"
    }
   ],
   "source": [
    "get_morph_idxs('Nodule, granulome,plaquE')"
   ]
  },
  {
   "cell_type": "code",
   "execution_count": 12,
   "id": "short-generation",
   "metadata": {},
   "outputs": [],
   "source": [
    "def can_load_img(pt):\n",
    "    try:\n",
    "        img = Image.open(pt)\n",
    "        return True\n",
    "    except:\n",
    "        return False"
   ]
  },
  {
   "cell_type": "markdown",
   "id": "valued-visiting",
   "metadata": {},
   "source": [
    "### dermis"
   ]
  },
  {
   "cell_type": "code",
   "execution_count": 43,
   "id": "protective-arbitration",
   "metadata": {},
   "outputs": [
    {
     "data": {
      "text/plain": [
       "7184"
      ]
     },
     "execution_count": 43,
     "metadata": {},
     "output_type": "execute_result"
    }
   ],
   "source": [
    "len(dermis)"
   ]
  },
  {
   "cell_type": "code",
   "execution_count": 44,
   "id": "imperial-pavilion",
   "metadata": {},
   "outputs": [
    {
     "data": {
      "text/plain": [
       "['dermis/0000000.jpg',\n",
       " '51',\n",
       " 'male',\n",
       " 'caucasian',\n",
       " ['tumor'],\n",
       " ['lower arms'],\n",
       " \"abrikossof's tumour of skin\"]"
      ]
     },
     "execution_count": 44,
     "metadata": {},
     "output_type": "execute_result"
    }
   ],
   "source": [
    "dermis[0]"
   ]
  },
  {
   "cell_type": "code",
   "execution_count": 50,
   "id": "amateur-fashion",
   "metadata": {},
   "outputs": [],
   "source": [
    "els = [(i, str(data_folder / el[0]), get_disease_idx(el[-1]), get_morph_idxs(\",\".join(el[-3]))) for i,el in enumerate(dermis)]"
   ]
  },
  {
   "cell_type": "code",
   "execution_count": 51,
   "id": "provincial-guess",
   "metadata": {},
   "outputs": [],
   "source": [
    "els = list(filter(lambda el: el[2] >= 0, els))"
   ]
  },
  {
   "cell_type": "code",
   "execution_count": 52,
   "id": "romantic-butter",
   "metadata": {},
   "outputs": [
    {
     "data": {
      "text/plain": [
       "2076"
      ]
     },
     "execution_count": 52,
     "metadata": {},
     "output_type": "execute_result"
    }
   ],
   "source": [
    "len(els)"
   ]
  },
  {
   "cell_type": "code",
   "execution_count": 53,
   "id": "historic-indicator",
   "metadata": {},
   "outputs": [
    {
     "data": {
      "application/vnd.jupyter.widget-view+json": {
       "model_id": "61830ffbe63b45538fac63914b4ba73a",
       "version_major": 2,
       "version_minor": 0
      },
      "text/plain": [
       "  0%|          | 0/2076 [00:00<?, ?it/s]"
      ]
     },
     "metadata": {},
     "output_type": "display_data"
    }
   ],
   "source": [
    "els = list(filter(lambda el: can_load_img(el[1]), tqdm(els)))"
   ]
  },
  {
   "cell_type": "code",
   "execution_count": 55,
   "id": "patient-analyst",
   "metadata": {},
   "outputs": [
    {
     "data": {
      "text/plain": [
       "2076"
      ]
     },
     "execution_count": 55,
     "metadata": {},
     "output_type": "execute_result"
    }
   ],
   "source": [
    "len(els)"
   ]
  },
  {
   "cell_type": "code",
   "execution_count": 56,
   "id": "basic-kazakhstan",
   "metadata": {},
   "outputs": [],
   "source": [
    "with open(lbl_folder / 'dermis.pkl', 'wb') as g:\n",
    "    pickle.dump(els, g)"
   ]
  },
  {
   "cell_type": "code",
   "execution_count": 57,
   "id": "suburban-things",
   "metadata": {},
   "outputs": [],
   "source": [
    "with open(lbl_folder / 'dermis.pkl', 'rb') as f:\n",
    "    els = pickle.load(f)"
   ]
  },
  {
   "cell_type": "code",
   "execution_count": 58,
   "id": "adapted-coating",
   "metadata": {},
   "outputs": [
    {
     "name": "stdout",
     "output_type": "stream",
     "text": [
      "0 150\n",
      "1 113\n",
      "2 228\n",
      "3 71\n",
      "4 46\n",
      "5 150\n",
      "6 203\n",
      "7 40\n",
      "8 173\n",
      "9 70\n",
      "10 189\n",
      "11 76\n",
      "12 121\n",
      "13 18\n",
      "14 77\n",
      "15 44\n",
      "16 22\n",
      "17 7\n",
      "18 26\n",
      "19 252\n"
     ]
    }
   ],
   "source": [
    "for i in range(len(list_ds_2)):\n",
    "    print(i, len(list(filter(lambda x: x[2] == i, els))))"
   ]
  },
  {
   "cell_type": "markdown",
   "id": "together-junior",
   "metadata": {},
   "source": [
    "### chicago"
   ]
  },
  {
   "cell_type": "code",
   "execution_count": 14,
   "id": "conscious-serve",
   "metadata": {},
   "outputs": [
    {
     "data": {
      "text/plain": [
       "223"
      ]
     },
     "execution_count": 14,
     "metadata": {},
     "output_type": "execute_result"
    }
   ],
   "source": [
    "len(chicago)"
   ]
  },
  {
   "cell_type": "code",
   "execution_count": 15,
   "id": "postal-knowing",
   "metadata": {},
   "outputs": [
    {
     "data": {
      "text/plain": [
       "['chicago/0000000.jpg', 'Acne keloidalis Scars']"
      ]
     },
     "execution_count": 15,
     "metadata": {},
     "output_type": "execute_result"
    }
   ],
   "source": [
    "chicago[0]"
   ]
  },
  {
   "cell_type": "code",
   "execution_count": 16,
   "id": "above-college",
   "metadata": {},
   "outputs": [],
   "source": [
    "els = [(i, str(data_folder / el[0]), get_disease_idx(el[1]), []) for (i,el) in enumerate(chicago)]"
   ]
  },
  {
   "cell_type": "code",
   "execution_count": 18,
   "id": "studied-iceland",
   "metadata": {},
   "outputs": [],
   "source": [
    "els = list(filter(lambda el: el[2] >= 0, els))"
   ]
  },
  {
   "cell_type": "code",
   "execution_count": 19,
   "id": "disturbed-bulgarian",
   "metadata": {},
   "outputs": [
    {
     "data": {
      "text/plain": [
       "63"
      ]
     },
     "execution_count": 19,
     "metadata": {},
     "output_type": "execute_result"
    }
   ],
   "source": [
    "len(els)"
   ]
  },
  {
   "cell_type": "code",
   "execution_count": 20,
   "id": "usual-specification",
   "metadata": {},
   "outputs": [
    {
     "data": {
      "application/vnd.jupyter.widget-view+json": {
       "model_id": "deb440d9f57f4ecead7c0466320f4e4c",
       "version_major": 2,
       "version_minor": 0
      },
      "text/plain": [
       "  0%|          | 0/63 [00:00<?, ?it/s]"
      ]
     },
     "metadata": {},
     "output_type": "display_data"
    }
   ],
   "source": [
    "els = list(filter(lambda el: can_load_img(el[1]), tqdm(els)))"
   ]
  },
  {
   "cell_type": "code",
   "execution_count": 21,
   "id": "consistent-hopkins",
   "metadata": {},
   "outputs": [
    {
     "data": {
      "text/plain": [
       "63"
      ]
     },
     "execution_count": 21,
     "metadata": {},
     "output_type": "execute_result"
    }
   ],
   "source": [
    "len(els)"
   ]
  },
  {
   "cell_type": "code",
   "execution_count": 22,
   "id": "voluntary-stick",
   "metadata": {},
   "outputs": [],
   "source": [
    "with open(lbl_folder / 'chicago.pkl', 'wb') as g:\n",
    "    pickle.dump(els, g)"
   ]
  },
  {
   "cell_type": "markdown",
   "id": "dressed-database",
   "metadata": {},
   "source": [
    "### dermnet"
   ]
  },
  {
   "cell_type": "code",
   "execution_count": 25,
   "id": "intimate-steel",
   "metadata": {},
   "outputs": [
    {
     "data": {
      "text/plain": [
       "18223"
      ]
     },
     "execution_count": 25,
     "metadata": {},
     "output_type": "execute_result"
    }
   ],
   "source": [
    "len(dermnet)"
   ]
  },
  {
   "cell_type": "code",
   "execution_count": 26,
   "id": "controlling-necklace",
   "metadata": {},
   "outputs": [
    {
     "data": {
      "text/plain": [
       "['dermnet/0000000.jpg', 'Acanthosis Nigricans']"
      ]
     },
     "execution_count": 26,
     "metadata": {},
     "output_type": "execute_result"
    }
   ],
   "source": [
    "dermnet[0]"
   ]
  },
  {
   "cell_type": "code",
   "execution_count": 28,
   "id": "aboriginal-modern",
   "metadata": {},
   "outputs": [],
   "source": [
    "els = [(i, str(data_folder / el[0]), get_disease_idx(el[1]), []) for (i,el) in enumerate(dermnet)]"
   ]
  },
  {
   "cell_type": "code",
   "execution_count": 29,
   "id": "separate-stationery",
   "metadata": {},
   "outputs": [],
   "source": [
    "els = list(filter(lambda el: el[2] >= 0, els))"
   ]
  },
  {
   "cell_type": "code",
   "execution_count": 30,
   "id": "referenced-willow",
   "metadata": {},
   "outputs": [
    {
     "data": {
      "text/plain": [
       "7403"
      ]
     },
     "execution_count": 30,
     "metadata": {},
     "output_type": "execute_result"
    }
   ],
   "source": [
    "len(els)"
   ]
  },
  {
   "cell_type": "code",
   "execution_count": 31,
   "id": "oriental-ministry",
   "metadata": {},
   "outputs": [
    {
     "data": {
      "application/vnd.jupyter.widget-view+json": {
       "model_id": "cb950d6517d34132b4759d242475f30a",
       "version_major": 2,
       "version_minor": 0
      },
      "text/plain": [
       "  0%|          | 0/7403 [00:00<?, ?it/s]"
      ]
     },
     "metadata": {},
     "output_type": "display_data"
    }
   ],
   "source": [
    "els = list(filter(lambda el: can_load_img(el[1]), tqdm(els)))"
   ]
  },
  {
   "cell_type": "code",
   "execution_count": 32,
   "id": "turkish-application",
   "metadata": {},
   "outputs": [
    {
     "data": {
      "text/plain": [
       "7403"
      ]
     },
     "execution_count": 32,
     "metadata": {},
     "output_type": "execute_result"
    }
   ],
   "source": [
    "len(els)"
   ]
  },
  {
   "cell_type": "code",
   "execution_count": 33,
   "id": "healthy-chase",
   "metadata": {},
   "outputs": [],
   "source": [
    "with open(lbl_folder / 'dermnet.pkl', 'wb') as g:\n",
    "    pickle.dump(els, g)"
   ]
  },
  {
   "cell_type": "markdown",
   "id": "decreased-group",
   "metadata": {},
   "source": [
    "### iowa"
   ]
  },
  {
   "cell_type": "code",
   "execution_count": 34,
   "id": "latest-production",
   "metadata": {},
   "outputs": [
    {
     "data": {
      "text/plain": [
       "374"
      ]
     },
     "execution_count": 34,
     "metadata": {},
     "output_type": "execute_result"
    }
   ],
   "source": [
    "len(iowa)"
   ]
  },
  {
   "cell_type": "code",
   "execution_count": 35,
   "id": "passive-slovenia",
   "metadata": {},
   "outputs": [
    {
     "data": {
      "text/plain": [
       "['iowa/0000000.jpg', 'Acanthosis Nigricans']"
      ]
     },
     "execution_count": 35,
     "metadata": {},
     "output_type": "execute_result"
    }
   ],
   "source": [
    "iowa[0]"
   ]
  },
  {
   "cell_type": "code",
   "execution_count": 37,
   "id": "danish-spice",
   "metadata": {},
   "outputs": [],
   "source": [
    "els = [(i, str(data_folder / el[0]), get_disease_idx(el[1]), []) for (i,el) in enumerate(iowa)]"
   ]
  },
  {
   "cell_type": "code",
   "execution_count": 38,
   "id": "parliamentary-phenomenon",
   "metadata": {},
   "outputs": [],
   "source": [
    "els = list(filter(lambda el: el[2] >= 0, els))"
   ]
  },
  {
   "cell_type": "code",
   "execution_count": 39,
   "id": "dated-listening",
   "metadata": {},
   "outputs": [
    {
     "data": {
      "text/plain": [
       "108"
      ]
     },
     "execution_count": 39,
     "metadata": {},
     "output_type": "execute_result"
    }
   ],
   "source": [
    "len(els)"
   ]
  },
  {
   "cell_type": "code",
   "execution_count": 40,
   "id": "extensive-naples",
   "metadata": {},
   "outputs": [
    {
     "data": {
      "application/vnd.jupyter.widget-view+json": {
       "model_id": "52dea7d07a104a14a31153dd03eb206a",
       "version_major": 2,
       "version_minor": 0
      },
      "text/plain": [
       "  0%|          | 0/108 [00:00<?, ?it/s]"
      ]
     },
     "metadata": {},
     "output_type": "display_data"
    }
   ],
   "source": [
    "els = list(filter(lambda el: can_load_img(el[1]), tqdm(els)))"
   ]
  },
  {
   "cell_type": "code",
   "execution_count": 41,
   "id": "supposed-difference",
   "metadata": {},
   "outputs": [
    {
     "data": {
      "text/plain": [
       "108"
      ]
     },
     "execution_count": 41,
     "metadata": {},
     "output_type": "execute_result"
    }
   ],
   "source": [
    "len(els)"
   ]
  },
  {
   "cell_type": "code",
   "execution_count": 42,
   "id": "theoretical-species",
   "metadata": {},
   "outputs": [],
   "source": [
    "with open(lbl_folder / 'iowa.pkl', 'wb') as g:\n",
    "    pickle.dump(els, g)"
   ]
  },
  {
   "cell_type": "markdown",
   "id": "fifteen-coordination",
   "metadata": {},
   "source": [
    "# Count"
   ]
  },
  {
   "cell_type": "code",
   "execution_count": 62,
   "id": "attended-librarian",
   "metadata": {},
   "outputs": [
    {
     "data": {
      "text/plain": [
       "[PosixPath('../_data_lbls/atlas_derm.pkl'),\n",
       " PosixPath('../_data_lbls/chicago.pkl'),\n",
       " PosixPath('../_data_lbls/dermis.pkl'),\n",
       " PosixPath('../_data_lbls/dermnet.pkl'),\n",
       " PosixPath('../_data_lbls/dermnetnz.pkl'),\n",
       " PosixPath('../_data_lbls/gsa.pkl'),\n",
       " PosixPath('../_data_lbls/hellenic.pkl'),\n",
       " PosixPath('../_data_lbls/iowa.pkl'),\n",
       " PosixPath('../_data_lbls/mapping_diseases.pkl'),\n",
       " PosixPath('../_data_lbls/mapping_morph.pkl'),\n",
       " PosixPath('../_data_lbls/ulb.pkl')]"
      ]
     },
     "execution_count": 62,
     "metadata": {},
     "output_type": "execute_result"
    }
   ],
   "source": [
    "sorted(lbl_folder.iterdir())"
   ]
  },
  {
   "cell_type": "code",
   "execution_count": 63,
   "id": "loose-baltimore",
   "metadata": {},
   "outputs": [],
   "source": [
    "c = 0\n",
    "for fl in sorted(lbl_folder.iterdir()):\n",
    "    if not fl.name.startswith('mapping'):\n",
    "        with open(fl, 'rb') as f:\n",
    "            L = pickle.load(f)\n",
    "        c += len(L)"
   ]
  },
  {
   "cell_type": "code",
   "execution_count": 64,
   "id": "hired-budget",
   "metadata": {},
   "outputs": [
    {
     "data": {
      "text/plain": [
       "17332"
      ]
     },
     "execution_count": 64,
     "metadata": {},
     "output_type": "execute_result"
    }
   ],
   "source": [
    "c"
   ]
  },
  {
   "cell_type": "code",
   "execution_count": 66,
   "id": "comic-remedy",
   "metadata": {},
   "outputs": [
    {
     "data": {
      "text/plain": [
       "23"
      ]
     },
     "execution_count": 66,
     "metadata": {},
     "output_type": "execute_result"
    }
   ],
   "source": [
    "len(list_ms)"
   ]
  },
  {
   "cell_type": "code",
   "execution_count": 67,
   "id": "fabulous-gnome",
   "metadata": {},
   "outputs": [
    {
     "data": {
      "text/plain": [
       "[['hyperpigmentation',\n",
       "  'patch',\n",
       "  'hypopigmentation',\n",
       "  'purpura',\n",
       "  'macule brown',\n",
       "  'telangiectasia',\n",
       "  'macule red',\n",
       "  'macule white',\n",
       "  'macules',\n",
       "  'macule black',\n",
       "  'macula / patch',\n",
       "  'erythema',\n",
       "  'squame, lésion érythémato-squameuse',\n",
       "  'macule, érythème',\n",
       "  'macule, macule pigmentée',\n",
       "  'purpura',\n",
       "  'squame, lésion érythémato-squameusevésicule, vésicule par spongiose',\n",
       "  'macule, macule dépigmentée',\n",
       "  'livédo',\n",
       "  'multiples lésions pigmentées',\n",
       "  'pustulemacule, érythème',\n",
       "  'macule'],\n",
       " ['granulome'],\n",
       " ['nodule',\n",
       "  'nodule,purple',\n",
       "  'nodule pink',\n",
       "  'nodule,skin coloured',\n",
       "  'nodule,black',\n",
       "  'nodule,yellow',\n",
       "  'node',\n",
       "  'tumor',\n",
       "  'tumeur, tumeur maligne',\n",
       "  'tumeur, tumeur bénigne',\n",
       "  'tumeur',\n",
       "  'tumeur, carcinome spinocellulaire',\n",
       "  'tumeur, mélanome',\n",
       "  'nodule'],\n",
       " ['plaque',\n",
       "  'papules,red',\n",
       "  'papules,skin coloured',\n",
       "  'papules',\n",
       "  'papules,brown',\n",
       "  'papules,yellow',\n",
       "  'papules,black',\n",
       "  'papules white',\n",
       "  'comedone',\n",
       "  'papule',\n",
       "  'plaque',\n",
       "  'papulo-vesicle',\n",
       "  'papule, papule cellulaire',\n",
       "  'papule',\n",
       "  'lésion papulo-squameuse',\n",
       "  'papule, papulo-pustule',\n",
       "  'papule, papule oedémateuse',\n",
       "  'bullepapule, papule oedémateuseulcération',\n",
       "  'papule, papule nécrosante',\n",
       "  'macule, érythèmepapule, papule oedémateuse'],\n",
       " ['wheal', 'wheal', 'macule, érythèmepapule, papule oedémateuse'],\n",
       " ['vesicles',\n",
       "  'vesiculobullous',\n",
       "  'vesicle',\n",
       "  'papulo-vesicle',\n",
       "  'vésicule, vésicule par spongiose',\n",
       "  'papule, papule cellulaire',\n",
       "  'vésicule',\n",
       "  'squame, lésion érythémato-squameusevésicule, vésicule par spongiose',\n",
       "  'vésicule, vésicule par nécrose cellulaire',\n",
       "  'vésicule, vésicule par spongiosesquame, lésion érythémato-squameuse'],\n",
       " ['blisters',\n",
       "  'vesiculobullous',\n",
       "  'bulla',\n",
       "  'bulle, bulle dermo-épidermique',\n",
       "  'bulle',\n",
       "  'bullepapule, papule oedémateuseulcération',\n",
       "  'bulle, bulle sous-cornée',\n",
       "  'bulle, bulle sous-cornéeulcération'],\n",
       " ['pustules',\n",
       "  'abscess',\n",
       "  'cyst',\n",
       "  'pustule',\n",
       "  'papule, papulo-pustule',\n",
       "  'pustule',\n",
       "  'pustule, pustule folliculaire',\n",
       "  'pustulemacule, érythème',\n",
       "  'papuleulcération, chancre syphilitique'],\n",
       " ['lésion pigmentée'],\n",
       " [],\n",
       " ['erosions', 'erosion'],\n",
       " ['ulcer',\n",
       "  'ulcus',\n",
       "  'ulcération',\n",
       "  'ulcération, chancre syphilitique',\n",
       "  'papuleulcération, chancre syphilitique',\n",
       "  'bulle, bulle sous-cornéeulcération',\n",
       "  'lésion ulcérée'],\n",
       " ['red,scaly',\n",
       "  'scales',\n",
       "  'desquamation',\n",
       "  'crusted squames',\n",
       "  'squame, lésion érythémato-squameuse',\n",
       "  'lésion papulo-squameuse',\n",
       "  'squame, lésion érythémato-squameusevésicule, vésicule par spongiose',\n",
       "  'squame'],\n",
       " ['crusts', 'crust', 'crusted squames'],\n",
       " ['scar', 'scar'],\n",
       " [],\n",
       " ['excoriation', 'excoriation', 'lésion excoriée'],\n",
       " ['keratoderma',\n",
       "  'hyperkeratosis',\n",
       "  'keratosis',\n",
       "  'hyperkératose',\n",
       "  'hyperkératosesquame, lésion érythémato-squameuse',\n",
       "  'hypertrophiehyperkératose'],\n",
       " ['lichenification', 'lichenification'],\n",
       " [],\n",
       " ['sclerosis', 'sclerosis', 'sclérose'],\n",
       " [],\n",
       " ['atrophy', 'atrophy', 'atrophie', 'atrophie, cicatrice']]"
      ]
     },
     "execution_count": 67,
     "metadata": {},
     "output_type": "execute_result"
    }
   ],
   "source": [
    "list_ms"
   ]
  },
  {
   "cell_type": "code",
   "execution_count": null,
   "id": "essential-family",
   "metadata": {},
   "outputs": [],
   "source": []
  }
 ],
 "metadata": {
  "kernelspec": {
   "display_name": "derm-dis-morph",
   "language": "python",
   "name": "derm-dis-morph"
  },
  "language_info": {
   "codemirror_mode": {
    "name": "ipython",
    "version": 3
   },
   "file_extension": ".py",
   "mimetype": "text/x-python",
   "name": "python",
   "nbconvert_exporter": "python",
   "pygments_lexer": "ipython3",
   "version": "3.6.12"
  }
 },
 "nbformat": 4,
 "nbformat_minor": 5
}
