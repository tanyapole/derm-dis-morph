{
 "cells": [
  {
   "cell_type": "code",
   "execution_count": 1,
   "id": "comic-deposit",
   "metadata": {},
   "outputs": [],
   "source": [
    "import os\n",
    "import pickle \n",
    "import pandas as pd\n",
    "import numpy as np\n",
    "from PIL import Image\n",
    "from shutil import copyfile\n",
    "import pickle\n",
    "from tqdm.auto import tqdm\n",
    "from pathlib import Path"
   ]
  },
  {
   "cell_type": "code",
   "execution_count": 2,
   "id": "elementary-thinking",
   "metadata": {},
   "outputs": [],
   "source": [
    "data_folder = Path('/mnt/tank/scratch/tpolevaya/datasets/rash/public')"
   ]
  },
  {
   "cell_type": "code",
   "execution_count": 3,
   "id": "sexual-contact",
   "metadata": {},
   "outputs": [],
   "source": [
    "lbl_folder = Path('../_data_lbls')"
   ]
  },
  {
   "cell_type": "code",
   "execution_count": 4,
   "id": "municipal-superintendent",
   "metadata": {},
   "outputs": [],
   "source": [
    "with open(lbl_folder / 'mapping_diseases.pkl', 'rb') as f: list_ds = pickle.load(f)\n",
    "with open(lbl_folder / 'mapping_morph.pkl', 'rb') as f: list_ms = pickle.load(f)"
   ]
  },
  {
   "cell_type": "code",
   "execution_count": 5,
   "id": "italian-trust",
   "metadata": {},
   "outputs": [],
   "source": [
    "list_ds_2 = [[el.lower().strip() for el in L] for L in list_ds]\n",
    "list_ms_2 = [[el.lower().strip() for el in L] for L in list_ms]"
   ]
  },
  {
   "cell_type": "code",
   "execution_count": 6,
   "id": "warming-medicare",
   "metadata": {},
   "outputs": [],
   "source": [
    "# ts = list(filter(lambda x: x.strip().startswith('with'), ts))\n",
    "# ts = list(map(lambda x: x.split(\"'\")[1], ts))\n",
    "# allowed_pickles = ts"
   ]
  },
  {
   "cell_type": "code",
   "execution_count": 7,
   "id": "genetic-cargo",
   "metadata": {},
   "outputs": [],
   "source": [
    "with open(data_folder / 'chicago/image_chicago.pickle', 'rb') as f:\n",
    "    chicago = pickle.load(f)\n",
    "with open(data_folder / 'dermis/image_dermis.pickle', 'rb') as f:\n",
    "    dermis = pickle.load(f)\n",
    "with open(data_folder / 'dermnet/image_dermnet.pickle', 'rb') as f:\n",
    "    dermnet = pickle.load(f)\n",
    "with open(data_folder / 'iowa/image_iowa.pickle', 'rb') as f:\n",
    "    iowa = pickle.load(f)"
   ]
  },
  {
   "cell_type": "code",
   "execution_count": 8,
   "id": "growing-thursday",
   "metadata": {},
   "outputs": [],
   "source": [
    "def get_disease_idx(name):\n",
    "    if name is None: return -1\n",
    "    name = name.lower().strip()\n",
    "    for i, L in enumerate(list_ds_2):\n",
    "        if name in L:\n",
    "            return i\n",
    "    return -1\n",
    "def get_morph_idxs(names):\n",
    "    names = [n.lower().strip() for n in names.split(',')]\n",
    "    res = []\n",
    "    for i, L in enumerate(list_ms_2):\n",
    "        if len(set(names).intersection(set(L))) > 0:\n",
    "            res.append(i)\n",
    "    return res"
   ]
  },
  {
   "cell_type": "code",
   "execution_count": 9,
   "id": "unable-rainbow",
   "metadata": {},
   "outputs": [
    {
     "data": {
      "text/plain": [
       "2"
      ]
     },
     "execution_count": 9,
     "metadata": {},
     "output_type": "execute_result"
    }
   ],
   "source": [
    "get_disease_idx(' psorIAsis ')"
   ]
  },
  {
   "cell_type": "code",
   "execution_count": 10,
   "id": "alert-shipping",
   "metadata": {},
   "outputs": [
    {
     "data": {
      "text/plain": [
       "[1, 2, 3]"
      ]
     },
     "execution_count": 10,
     "metadata": {},
     "output_type": "execute_result"
    }
   ],
   "source": [
    "get_morph_idxs('Nodule, granulome,plaquE')"
   ]
  },
  {
   "cell_type": "code",
   "execution_count": 11,
   "id": "junior-looking",
   "metadata": {},
   "outputs": [],
   "source": [
    "def can_load_img(pt):\n",
    "    try:\n",
    "        img = Image.open(pt)\n",
    "        return True\n",
    "    except:\n",
    "        return False"
   ]
  },
  {
   "cell_type": "markdown",
   "id": "dense-message",
   "metadata": {},
   "source": [
    "### dermis"
   ]
  },
  {
   "cell_type": "code",
   "execution_count": 12,
   "id": "indirect-surface",
   "metadata": {},
   "outputs": [
    {
     "data": {
      "text/plain": [
       "7184"
      ]
     },
     "execution_count": 12,
     "metadata": {},
     "output_type": "execute_result"
    }
   ],
   "source": [
    "len(dermis)"
   ]
  },
  {
   "cell_type": "code",
   "execution_count": 13,
   "id": "trying-paper",
   "metadata": {},
   "outputs": [
    {
     "data": {
      "text/plain": [
       "['dermis/0000000.jpg',\n",
       " '51',\n",
       " 'male',\n",
       " 'caucasian',\n",
       " ['tumor'],\n",
       " ['lower arms'],\n",
       " \"abrikossof's tumour of skin\"]"
      ]
     },
     "execution_count": 13,
     "metadata": {},
     "output_type": "execute_result"
    }
   ],
   "source": [
    "dermis[0]"
   ]
  },
  {
   "cell_type": "code",
   "execution_count": 14,
   "id": "overall-edmonton",
   "metadata": {},
   "outputs": [],
   "source": [
    "els = [(i, str(data_folder / el[0]), get_disease_idx(el[-1]), get_morph_idxs(\",\".join(el[-3]))) for i,el in enumerate(dermis)]"
   ]
  },
  {
   "cell_type": "code",
   "execution_count": 15,
   "id": "close-andrews",
   "metadata": {},
   "outputs": [],
   "source": [
    "els = list(filter(lambda el: el[2] >= 0, els))"
   ]
  },
  {
   "cell_type": "code",
   "execution_count": 16,
   "id": "solid-testimony",
   "metadata": {},
   "outputs": [
    {
     "data": {
      "text/plain": [
       "2076"
      ]
     },
     "execution_count": 16,
     "metadata": {},
     "output_type": "execute_result"
    }
   ],
   "source": [
    "len(els)"
   ]
  },
  {
   "cell_type": "code",
   "execution_count": 17,
   "id": "following-ranking",
   "metadata": {},
   "outputs": [
    {
     "data": {
      "application/vnd.jupyter.widget-view+json": {
       "model_id": "ee3d01124d014343b031f2845258089c",
       "version_major": 2,
       "version_minor": 0
      },
      "text/plain": [
       "  0%|          | 0/2076 [00:00<?, ?it/s]"
      ]
     },
     "metadata": {},
     "output_type": "display_data"
    }
   ],
   "source": [
    "els = list(filter(lambda el: can_load_img(el[1]), tqdm(els)))"
   ]
  },
  {
   "cell_type": "code",
   "execution_count": 18,
   "id": "outside-australia",
   "metadata": {},
   "outputs": [
    {
     "data": {
      "text/plain": [
       "2076"
      ]
     },
     "execution_count": 18,
     "metadata": {},
     "output_type": "execute_result"
    }
   ],
   "source": [
    "len(els)"
   ]
  },
  {
   "cell_type": "code",
   "execution_count": 19,
   "id": "premium-phenomenon",
   "metadata": {},
   "outputs": [],
   "source": [
    "with open(lbl_folder / 'dermis.pkl', 'wb') as g:\n",
    "    pickle.dump(els, g)"
   ]
  },
  {
   "cell_type": "code",
   "execution_count": 20,
   "id": "offensive-chinese",
   "metadata": {},
   "outputs": [],
   "source": [
    "with open(lbl_folder / 'dermis.pkl', 'rb') as f:\n",
    "    els = pickle.load(f)"
   ]
  },
  {
   "cell_type": "code",
   "execution_count": 21,
   "id": "inappropriate-syndrome",
   "metadata": {},
   "outputs": [
    {
     "name": "stdout",
     "output_type": "stream",
     "text": [
      "0 150\n",
      "1 113\n",
      "2 228\n",
      "3 71\n",
      "4 46\n",
      "5 150\n",
      "6 203\n",
      "7 40\n",
      "8 173\n",
      "9 70\n",
      "10 189\n",
      "11 76\n",
      "12 121\n",
      "13 18\n",
      "14 77\n",
      "15 44\n",
      "16 22\n",
      "17 7\n",
      "18 26\n",
      "19 252\n"
     ]
    }
   ],
   "source": [
    "for i in range(len(list_ds_2)):\n",
    "    print(i, len(list(filter(lambda x: x[2] == i, els))))"
   ]
  },
  {
   "cell_type": "markdown",
   "id": "automated-satin",
   "metadata": {},
   "source": [
    "### chicago"
   ]
  },
  {
   "cell_type": "code",
   "execution_count": 22,
   "id": "final-claim",
   "metadata": {},
   "outputs": [
    {
     "data": {
      "text/plain": [
       "223"
      ]
     },
     "execution_count": 22,
     "metadata": {},
     "output_type": "execute_result"
    }
   ],
   "source": [
    "len(chicago)"
   ]
  },
  {
   "cell_type": "code",
   "execution_count": 23,
   "id": "activated-heating",
   "metadata": {},
   "outputs": [
    {
     "data": {
      "text/plain": [
       "['chicago/0000000.jpg', 'Acne keloidalis Scars']"
      ]
     },
     "execution_count": 23,
     "metadata": {},
     "output_type": "execute_result"
    }
   ],
   "source": [
    "chicago[0]"
   ]
  },
  {
   "cell_type": "code",
   "execution_count": 24,
   "id": "generic-joshua",
   "metadata": {},
   "outputs": [],
   "source": [
    "els = [(i, str(data_folder / el[0]), get_disease_idx(el[1]), []) for (i,el) in enumerate(chicago)]"
   ]
  },
  {
   "cell_type": "code",
   "execution_count": 25,
   "id": "concrete-train",
   "metadata": {},
   "outputs": [],
   "source": [
    "els = list(filter(lambda el: el[2] >= 0, els))"
   ]
  },
  {
   "cell_type": "code",
   "execution_count": 26,
   "id": "three-struggle",
   "metadata": {},
   "outputs": [
    {
     "data": {
      "text/plain": [
       "63"
      ]
     },
     "execution_count": 26,
     "metadata": {},
     "output_type": "execute_result"
    }
   ],
   "source": [
    "len(els)"
   ]
  },
  {
   "cell_type": "code",
   "execution_count": 27,
   "id": "concerned-facing",
   "metadata": {},
   "outputs": [
    {
     "data": {
      "application/vnd.jupyter.widget-view+json": {
       "model_id": "237914bd8c204009a91f71bcbabbe9dd",
       "version_major": 2,
       "version_minor": 0
      },
      "text/plain": [
       "  0%|          | 0/63 [00:00<?, ?it/s]"
      ]
     },
     "metadata": {},
     "output_type": "display_data"
    }
   ],
   "source": [
    "els = list(filter(lambda el: can_load_img(el[1]), tqdm(els)))"
   ]
  },
  {
   "cell_type": "code",
   "execution_count": 28,
   "id": "transsexual-wednesday",
   "metadata": {},
   "outputs": [
    {
     "data": {
      "text/plain": [
       "63"
      ]
     },
     "execution_count": 28,
     "metadata": {},
     "output_type": "execute_result"
    }
   ],
   "source": [
    "len(els)"
   ]
  },
  {
   "cell_type": "code",
   "execution_count": 29,
   "id": "varied-transition",
   "metadata": {},
   "outputs": [],
   "source": [
    "with open(lbl_folder / 'chicago.pkl', 'wb') as g:\n",
    "    pickle.dump(els, g)"
   ]
  },
  {
   "cell_type": "markdown",
   "id": "residential-nigeria",
   "metadata": {},
   "source": [
    "### dermnet"
   ]
  },
  {
   "cell_type": "code",
   "execution_count": 30,
   "id": "crude-million",
   "metadata": {},
   "outputs": [
    {
     "data": {
      "text/plain": [
       "18223"
      ]
     },
     "execution_count": 30,
     "metadata": {},
     "output_type": "execute_result"
    }
   ],
   "source": [
    "len(dermnet)"
   ]
  },
  {
   "cell_type": "code",
   "execution_count": 31,
   "id": "reported-drain",
   "metadata": {},
   "outputs": [
    {
     "data": {
      "text/plain": [
       "['dermnet/0000000.jpg', 'Acanthosis Nigricans']"
      ]
     },
     "execution_count": 31,
     "metadata": {},
     "output_type": "execute_result"
    }
   ],
   "source": [
    "dermnet[0]"
   ]
  },
  {
   "cell_type": "code",
   "execution_count": 32,
   "id": "everyday-lodge",
   "metadata": {},
   "outputs": [],
   "source": [
    "els = [(i, str(data_folder / el[0]), get_disease_idx(el[1]), []) for (i,el) in enumerate(dermnet)]"
   ]
  },
  {
   "cell_type": "code",
   "execution_count": 33,
   "id": "unsigned-monster",
   "metadata": {},
   "outputs": [],
   "source": [
    "els = list(filter(lambda el: el[2] >= 0, els))"
   ]
  },
  {
   "cell_type": "code",
   "execution_count": 34,
   "id": "fewer-vampire",
   "metadata": {},
   "outputs": [
    {
     "data": {
      "text/plain": [
       "7403"
      ]
     },
     "execution_count": 34,
     "metadata": {},
     "output_type": "execute_result"
    }
   ],
   "source": [
    "len(els)"
   ]
  },
  {
   "cell_type": "code",
   "execution_count": 35,
   "id": "cooperative-superintendent",
   "metadata": {},
   "outputs": [
    {
     "data": {
      "application/vnd.jupyter.widget-view+json": {
       "model_id": "afca24bfd27d4de7ab37c3b3e700f36c",
       "version_major": 2,
       "version_minor": 0
      },
      "text/plain": [
       "  0%|          | 0/7403 [00:00<?, ?it/s]"
      ]
     },
     "metadata": {},
     "output_type": "display_data"
    }
   ],
   "source": [
    "els = list(filter(lambda el: can_load_img(el[1]), tqdm(els)))"
   ]
  },
  {
   "cell_type": "code",
   "execution_count": 36,
   "id": "challenging-annex",
   "metadata": {},
   "outputs": [
    {
     "data": {
      "text/plain": [
       "7403"
      ]
     },
     "execution_count": 36,
     "metadata": {},
     "output_type": "execute_result"
    }
   ],
   "source": [
    "len(els)"
   ]
  },
  {
   "cell_type": "code",
   "execution_count": 37,
   "id": "sublime-patio",
   "metadata": {},
   "outputs": [],
   "source": [
    "with open(lbl_folder / 'dermnet.pkl', 'wb') as g:\n",
    "    pickle.dump(els, g)"
   ]
  },
  {
   "cell_type": "markdown",
   "id": "dirty-wilderness",
   "metadata": {},
   "source": [
    "### iowa"
   ]
  },
  {
   "cell_type": "code",
   "execution_count": 38,
   "id": "instructional-variety",
   "metadata": {},
   "outputs": [
    {
     "data": {
      "text/plain": [
       "374"
      ]
     },
     "execution_count": 38,
     "metadata": {},
     "output_type": "execute_result"
    }
   ],
   "source": [
    "len(iowa)"
   ]
  },
  {
   "cell_type": "code",
   "execution_count": 39,
   "id": "psychological-maine",
   "metadata": {},
   "outputs": [
    {
     "data": {
      "text/plain": [
       "['iowa/0000000.jpg', 'Acanthosis Nigricans']"
      ]
     },
     "execution_count": 39,
     "metadata": {},
     "output_type": "execute_result"
    }
   ],
   "source": [
    "iowa[0]"
   ]
  },
  {
   "cell_type": "code",
   "execution_count": 40,
   "id": "unsigned-helping",
   "metadata": {},
   "outputs": [],
   "source": [
    "els = [(i, str(data_folder / el[0]), get_disease_idx(el[1]), []) for (i,el) in enumerate(iowa)]"
   ]
  },
  {
   "cell_type": "code",
   "execution_count": 41,
   "id": "convinced-pension",
   "metadata": {},
   "outputs": [],
   "source": [
    "els = list(filter(lambda el: el[2] >= 0, els))"
   ]
  },
  {
   "cell_type": "code",
   "execution_count": 42,
   "id": "criminal-disclaimer",
   "metadata": {},
   "outputs": [
    {
     "data": {
      "text/plain": [
       "108"
      ]
     },
     "execution_count": 42,
     "metadata": {},
     "output_type": "execute_result"
    }
   ],
   "source": [
    "len(els)"
   ]
  },
  {
   "cell_type": "code",
   "execution_count": 43,
   "id": "looking-lingerie",
   "metadata": {},
   "outputs": [
    {
     "data": {
      "application/vnd.jupyter.widget-view+json": {
       "model_id": "4b94e0202ee84b478f3e897c2c411dce",
       "version_major": 2,
       "version_minor": 0
      },
      "text/plain": [
       "  0%|          | 0/108 [00:00<?, ?it/s]"
      ]
     },
     "metadata": {},
     "output_type": "display_data"
    }
   ],
   "source": [
    "els = list(filter(lambda el: can_load_img(el[1]), tqdm(els)))"
   ]
  },
  {
   "cell_type": "code",
   "execution_count": 44,
   "id": "harmful-yield",
   "metadata": {},
   "outputs": [
    {
     "data": {
      "text/plain": [
       "108"
      ]
     },
     "execution_count": 44,
     "metadata": {},
     "output_type": "execute_result"
    }
   ],
   "source": [
    "len(els)"
   ]
  },
  {
   "cell_type": "code",
   "execution_count": 45,
   "id": "municipal-priest",
   "metadata": {},
   "outputs": [],
   "source": [
    "with open(lbl_folder / 'iowa.pkl', 'wb') as g:\n",
    "    pickle.dump(els, g)"
   ]
  },
  {
   "cell_type": "markdown",
   "id": "accompanied-celebration",
   "metadata": {},
   "source": [
    "# Count"
   ]
  },
  {
   "cell_type": "code",
   "execution_count": 46,
   "id": "automated-matrix",
   "metadata": {},
   "outputs": [
    {
     "data": {
      "text/plain": [
       "[PosixPath('../_data_lbls/atlas_derm.pkl'),\n",
       " PosixPath('../_data_lbls/chicago.pkl'),\n",
       " PosixPath('../_data_lbls/compatibility.pkl'),\n",
       " PosixPath('../_data_lbls/dermis.pkl'),\n",
       " PosixPath('../_data_lbls/dermnet.pkl'),\n",
       " PosixPath('../_data_lbls/dermnetnz.pkl'),\n",
       " PosixPath('../_data_lbls/gsa.pkl'),\n",
       " PosixPath('../_data_lbls/hellenic.pkl'),\n",
       " PosixPath('../_data_lbls/iowa.pkl'),\n",
       " PosixPath('../_data_lbls/mapping_diseases.pkl'),\n",
       " PosixPath('../_data_lbls/mapping_morph.pkl'),\n",
       " PosixPath('../_data_lbls/ulb.pkl')]"
      ]
     },
     "execution_count": 46,
     "metadata": {},
     "output_type": "execute_result"
    }
   ],
   "source": [
    "sorted(lbl_folder.iterdir())"
   ]
  },
  {
   "cell_type": "code",
   "execution_count": 47,
   "id": "mature-creator",
   "metadata": {},
   "outputs": [],
   "source": [
    "c = 0\n",
    "for fl in sorted(lbl_folder.iterdir()):\n",
    "    if not fl.name.startswith('mapping'):\n",
    "        with open(fl, 'rb') as f:\n",
    "            L = pickle.load(f)\n",
    "        c += len(L)"
   ]
  },
  {
   "cell_type": "code",
   "execution_count": 48,
   "id": "norman-language",
   "metadata": {},
   "outputs": [
    {
     "data": {
      "text/plain": [
       "17352"
      ]
     },
     "execution_count": 48,
     "metadata": {},
     "output_type": "execute_result"
    }
   ],
   "source": [
    "c"
   ]
  },
  {
   "cell_type": "code",
   "execution_count": 49,
   "id": "measured-attack",
   "metadata": {},
   "outputs": [
    {
     "data": {
      "text/plain": [
       "23"
      ]
     },
     "execution_count": 49,
     "metadata": {},
     "output_type": "execute_result"
    }
   ],
   "source": [
    "len(list_ms)"
   ]
  },
  {
   "cell_type": "code",
   "execution_count": 50,
   "id": "wireless-cathedral",
   "metadata": {},
   "outputs": [
    {
     "data": {
      "text/plain": [
       "[['hyperpigmentation',\n",
       "  'patch',\n",
       "  'hypopigmentation',\n",
       "  'purpura',\n",
       "  'macule brown',\n",
       "  'telangiectasia',\n",
       "  'macule red',\n",
       "  'macule white',\n",
       "  'macules',\n",
       "  'macule black',\n",
       "  'macula / patch',\n",
       "  'erythema',\n",
       "  'squame, lésion érythémato-squameuse',\n",
       "  'macule, érythème',\n",
       "  'macule, macule pigmentée',\n",
       "  'purpura',\n",
       "  'squame, lésion érythémato-squameusevésicule, vésicule par spongiose',\n",
       "  'macule, macule dépigmentée',\n",
       "  'livédo',\n",
       "  'multiples lésions pigmentées',\n",
       "  'pustulemacule, érythème',\n",
       "  'macule'],\n",
       " ['granulome'],\n",
       " ['nodule',\n",
       "  'nodule,purple',\n",
       "  'nodule pink',\n",
       "  'nodule,skin coloured',\n",
       "  'nodule,black',\n",
       "  'nodule,yellow',\n",
       "  'node',\n",
       "  'tumor',\n",
       "  'tumeur, tumeur maligne',\n",
       "  'tumeur, tumeur bénigne',\n",
       "  'tumeur',\n",
       "  'tumeur, carcinome spinocellulaire',\n",
       "  'tumeur, mélanome',\n",
       "  'nodule'],\n",
       " ['plaque',\n",
       "  'papules,red',\n",
       "  'papules,skin coloured',\n",
       "  'papules',\n",
       "  'papules,brown',\n",
       "  'papules,yellow',\n",
       "  'papules,black',\n",
       "  'papules white',\n",
       "  'comedone',\n",
       "  'papule',\n",
       "  'plaque',\n",
       "  'papulo-vesicle',\n",
       "  'papule, papule cellulaire',\n",
       "  'papule',\n",
       "  'lésion papulo-squameuse',\n",
       "  'papule, papulo-pustule',\n",
       "  'papule, papule oedémateuse',\n",
       "  'bullepapule, papule oedémateuseulcération',\n",
       "  'papule, papule nécrosante',\n",
       "  'macule, érythèmepapule, papule oedémateuse'],\n",
       " ['wheal', 'wheal', 'macule, érythèmepapule, papule oedémateuse'],\n",
       " ['vesicles',\n",
       "  'vesiculobullous',\n",
       "  'vesicle',\n",
       "  'papulo-vesicle',\n",
       "  'vésicule, vésicule par spongiose',\n",
       "  'papule, papule cellulaire',\n",
       "  'vésicule',\n",
       "  'squame, lésion érythémato-squameusevésicule, vésicule par spongiose',\n",
       "  'vésicule, vésicule par nécrose cellulaire',\n",
       "  'vésicule, vésicule par spongiosesquame, lésion érythémato-squameuse'],\n",
       " ['blisters',\n",
       "  'vesiculobullous',\n",
       "  'bulla',\n",
       "  'bulle, bulle dermo-épidermique',\n",
       "  'bulle',\n",
       "  'bullepapule, papule oedémateuseulcération',\n",
       "  'bulle, bulle sous-cornée',\n",
       "  'bulle, bulle sous-cornéeulcération'],\n",
       " ['pustules',\n",
       "  'abscess',\n",
       "  'cyst',\n",
       "  'pustule',\n",
       "  'papule, papulo-pustule',\n",
       "  'pustule',\n",
       "  'pustule, pustule folliculaire',\n",
       "  'pustulemacule, érythème',\n",
       "  'papuleulcération, chancre syphilitique'],\n",
       " ['lésion pigmentée'],\n",
       " [],\n",
       " ['erosions', 'erosion'],\n",
       " ['ulcer',\n",
       "  'ulcus',\n",
       "  'ulcération',\n",
       "  'ulcération, chancre syphilitique',\n",
       "  'papuleulcération, chancre syphilitique',\n",
       "  'bulle, bulle sous-cornéeulcération',\n",
       "  'lésion ulcérée'],\n",
       " ['red,scaly',\n",
       "  'scales',\n",
       "  'desquamation',\n",
       "  'crusted squames',\n",
       "  'squame, lésion érythémato-squameuse',\n",
       "  'lésion papulo-squameuse',\n",
       "  'squame, lésion érythémato-squameusevésicule, vésicule par spongiose',\n",
       "  'squame'],\n",
       " ['crusts', 'crust', 'crusted squames'],\n",
       " ['scar', 'scar'],\n",
       " [],\n",
       " ['excoriation', 'excoriation', 'lésion excoriée'],\n",
       " ['keratoderma',\n",
       "  'hyperkeratosis',\n",
       "  'keratosis',\n",
       "  'hyperkératose',\n",
       "  'hyperkératosesquame, lésion érythémato-squameuse',\n",
       "  'hypertrophiehyperkératose'],\n",
       " ['lichenification', 'lichenification'],\n",
       " [],\n",
       " ['sclerosis', 'sclerosis', 'sclérose'],\n",
       " [],\n",
       " ['atrophy', 'atrophy', 'atrophie', 'atrophie, cicatrice']]"
      ]
     },
     "execution_count": 50,
     "metadata": {},
     "output_type": "execute_result"
    }
   ],
   "source": [
    "list_ms"
   ]
  },
  {
   "cell_type": "code",
   "execution_count": null,
   "id": "mechanical-double",
   "metadata": {},
   "outputs": [],
   "source": []
  },
  {
   "cell_type": "code",
   "execution_count": null,
   "id": "voluntary-persian",
   "metadata": {},
   "outputs": [],
   "source": []
  }
 ],
 "metadata": {
  "kernelspec": {
   "display_name": "derm-dis-morph",
   "language": "python",
   "name": "derm-dis-morph"
  },
  "language_info": {
   "codemirror_mode": {
    "name": "ipython",
    "version": 3
   },
   "file_extension": ".py",
   "mimetype": "text/x-python",
   "name": "python",
   "nbconvert_exporter": "python",
   "pygments_lexer": "ipython3",
   "version": "3.6.12"
  }
 },
 "nbformat": 4,
 "nbformat_minor": 5
}
