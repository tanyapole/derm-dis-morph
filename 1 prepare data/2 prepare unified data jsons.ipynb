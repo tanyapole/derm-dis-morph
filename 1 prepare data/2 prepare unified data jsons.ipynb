{
 "cells": [
  {
   "cell_type": "code",
   "execution_count": 1,
   "id": "worse-discount",
   "metadata": {},
   "outputs": [],
   "source": [
    "import os\n",
    "import pickle \n",
    "import pandas as pd\n",
    "import numpy as np\n",
    "from PIL import Image\n",
    "from shutil import copyfile\n",
    "import pickle\n",
    "from tqdm.auto import tqdm\n",
    "from pathlib import Path"
   ]
  },
  {
   "cell_type": "code",
   "execution_count": 2,
   "id": "falling-bleeding",
   "metadata": {},
   "outputs": [],
   "source": [
    "data_folder = Path('/mnt/tank/scratch/tpolevaya/my_work/students/coursework/_data')"
   ]
  },
  {
   "cell_type": "code",
   "execution_count": 3,
   "id": "textile-vampire",
   "metadata": {},
   "outputs": [],
   "source": [
    "lbl_folder = Path('../_data_lbls')"
   ]
  },
  {
   "cell_type": "code",
   "execution_count": 4,
   "id": "leading-mount",
   "metadata": {},
   "outputs": [],
   "source": [
    "with open(lbl_folder / 'mapping_diseases.pkl', 'rb') as f: list_ds = pickle.load(f)\n",
    "with open(lbl_folder / 'mapping_morph.pkl', 'rb') as f: list_ms = pickle.load(f)"
   ]
  },
  {
   "cell_type": "code",
   "execution_count": 5,
   "id": "moral-broad",
   "metadata": {},
   "outputs": [],
   "source": [
    "list_ds_2 = [[el.lower().strip() for el in L] for L in list_ds]\n",
    "list_ms_2 = [[el.lower().strip() for el in L] for L in list_ms]"
   ]
  },
  {
   "cell_type": "code",
   "execution_count": 6,
   "id": "pressed-breath",
   "metadata": {},
   "outputs": [],
   "source": [
    "with open(data_folder / 'gsa/images_gsa.pickle', 'rb') as f:\n",
    "    gsa = pickle.load(f)\n",
    "with open(data_folder / 'atlas_derm/image_atlas.pickle', 'rb') as f:\n",
    "    atlas_derm = pickle.load(f)\n",
    "with open(data_folder / 'hellenic/image_hellenic.pickle', 'rb') as f:\n",
    "    hellenic = pickle.load(f)\n",
    "with open(data_folder / 'dermnetnz/dermentnz_images.pickle', 'rb')  as f:\n",
    "    dermnetnz = pickle.load(f)\n",
    "with open(data_folder / 'ulb/image_ulb.pickle', 'rb') as f:\n",
    "    ulb = pickle.load(f)"
   ]
  },
  {
   "cell_type": "code",
   "execution_count": 7,
   "id": "featured-chorus",
   "metadata": {},
   "outputs": [],
   "source": [
    "def get_disease_idx(name):\n",
    "    name = name.lower().strip()\n",
    "    for i, L in enumerate(list_ds_2):\n",
    "        if name in L:\n",
    "            return i\n",
    "    return -1\n",
    "def get_morph_idxs(names):\n",
    "    names = [n.lower().strip() for n in names.split(',')]\n",
    "    res = []\n",
    "    for i, L in enumerate(list_ms_2):\n",
    "        if len(set(names).intersection(set(L))) > 0:\n",
    "            res.append(i)\n",
    "    return res"
   ]
  },
  {
   "cell_type": "code",
   "execution_count": 8,
   "id": "severe-penetration",
   "metadata": {},
   "outputs": [
    {
     "data": {
      "text/plain": [
       "2"
      ]
     },
     "execution_count": 8,
     "metadata": {},
     "output_type": "execute_result"
    }
   ],
   "source": [
    "get_disease_idx(' psorIAsis ')"
   ]
  },
  {
   "cell_type": "code",
   "execution_count": 9,
   "id": "chinese-mailman",
   "metadata": {},
   "outputs": [
    {
     "data": {
      "text/plain": [
       "[1, 2, 3]"
      ]
     },
     "execution_count": 9,
     "metadata": {},
     "output_type": "execute_result"
    }
   ],
   "source": [
    "get_morph_idxs('Nodule, granulome,plaquE')"
   ]
  },
  {
   "cell_type": "code",
   "execution_count": 18,
   "id": "protective-angle",
   "metadata": {},
   "outputs": [],
   "source": [
    "def can_load_img(pt):\n",
    "    try:\n",
    "        img = Image.open(pt)\n",
    "        return True\n",
    "    except:\n",
    "        return False"
   ]
  },
  {
   "cell_type": "markdown",
   "id": "fatal-syracuse",
   "metadata": {},
   "source": [
    "### GSA"
   ]
  },
  {
   "cell_type": "code",
   "execution_count": 10,
   "id": "coral-fighter",
   "metadata": {},
   "outputs": [
    {
     "data": {
      "text/plain": [
       "5932"
      ]
     },
     "execution_count": 10,
     "metadata": {},
     "output_type": "execute_result"
    }
   ],
   "source": [
    "len(gsa)"
   ]
  },
  {
   "cell_type": "code",
   "execution_count": 11,
   "id": "compressed-omega",
   "metadata": {},
   "outputs": [
    {
     "data": {
      "text/plain": [
       "['gsa/0000000.jpg',\n",
       " ' red,scaly',\n",
       " ' psoriasis',\n",
       " ' foot,sole',\n",
       " ' m',\n",
       " ' 64',\n",
       " ' clinical',\n",
       " 0]"
      ]
     },
     "execution_count": 11,
     "metadata": {},
     "output_type": "execute_result"
    }
   ],
   "source": [
    "gsa[0]"
   ]
  },
  {
   "cell_type": "code",
   "execution_count": 12,
   "id": "incorporate-component",
   "metadata": {},
   "outputs": [],
   "source": [
    "els = [(i, str(data_folder / el[0]), get_disease_idx(el[2]), get_morph_idxs(el[1])) for i,el in enumerate(gsa)]"
   ]
  },
  {
   "cell_type": "code",
   "execution_count": 13,
   "id": "activated-badge",
   "metadata": {},
   "outputs": [],
   "source": [
    "els = list(filter(lambda el: el[2] >= 0, els))"
   ]
  },
  {
   "cell_type": "code",
   "execution_count": 14,
   "id": "comparative-constant",
   "metadata": {},
   "outputs": [
    {
     "data": {
      "text/plain": [
       "1970"
      ]
     },
     "execution_count": 14,
     "metadata": {},
     "output_type": "execute_result"
    }
   ],
   "source": [
    "len(els)"
   ]
  },
  {
   "cell_type": "code",
   "execution_count": 21,
   "id": "heard-drill",
   "metadata": {},
   "outputs": [
    {
     "data": {
      "application/vnd.jupyter.widget-view+json": {
       "model_id": "06650aa1b2a44908accae662b74598b1",
       "version_major": 2,
       "version_minor": 0
      },
      "text/plain": [
       "  0%|          | 0/1969 [00:00<?, ?it/s]"
      ]
     },
     "metadata": {},
     "output_type": "display_data"
    }
   ],
   "source": [
    "els = list(filter(lambda el: can_load_img(el[1]), tqdm(els)))"
   ]
  },
  {
   "cell_type": "code",
   "execution_count": 22,
   "id": "intellectual-edward",
   "metadata": {},
   "outputs": [
    {
     "data": {
      "text/plain": [
       "1969"
      ]
     },
     "execution_count": 22,
     "metadata": {},
     "output_type": "execute_result"
    }
   ],
   "source": [
    "len(els)"
   ]
  },
  {
   "cell_type": "code",
   "execution_count": 23,
   "id": "alike-andorra",
   "metadata": {},
   "outputs": [],
   "source": [
    "with open(lbl_folder / 'gsa.pkl', 'wb') as g:\n",
    "    pickle.dump(els, g)"
   ]
  },
  {
   "cell_type": "code",
   "execution_count": 24,
   "id": "innocent-consultation",
   "metadata": {},
   "outputs": [],
   "source": [
    "with open(lbl_folder / 'gsa.pkl', 'rb') as f:\n",
    "    els = pickle.load(f)"
   ]
  },
  {
   "cell_type": "code",
   "execution_count": 25,
   "id": "accompanied-nudist",
   "metadata": {},
   "outputs": [
    {
     "name": "stdout",
     "output_type": "stream",
     "text": [
      "0 71\n",
      "1 92\n",
      "2 196\n",
      "3 87\n",
      "4 32\n",
      "5 132\n",
      "6 280\n",
      "7 46\n",
      "8 128\n",
      "9 74\n",
      "10 357\n",
      "11 16\n",
      "12 60\n",
      "13 40\n",
      "14 87\n",
      "15 24\n",
      "16 54\n",
      "17 14\n",
      "18 8\n",
      "19 171\n"
     ]
    }
   ],
   "source": [
    "for i in range(len(list_ds_2)):\n",
    "    print(i, len(list(filter(lambda x: x[2] == i, els))))"
   ]
  },
  {
   "cell_type": "markdown",
   "id": "electoral-minutes",
   "metadata": {},
   "source": [
    "### atlas_derm"
   ]
  },
  {
   "cell_type": "code",
   "execution_count": 26,
   "id": "visible-ordinary",
   "metadata": {},
   "outputs": [
    {
     "data": {
      "text/plain": [
       "10857"
      ]
     },
     "execution_count": 26,
     "metadata": {},
     "output_type": "execute_result"
    }
   ],
   "source": [
    "len(atlas_derm)"
   ]
  },
  {
   "cell_type": "code",
   "execution_count": 27,
   "id": "moved-worry",
   "metadata": {},
   "outputs": [
    {
     "data": {
      "text/plain": [
       "['atlas_derm/0000000.jpg', 'acanthosis nigricans-benign']"
      ]
     },
     "execution_count": 27,
     "metadata": {},
     "output_type": "execute_result"
    }
   ],
   "source": [
    "atlas_derm[0]"
   ]
  },
  {
   "cell_type": "code",
   "execution_count": 28,
   "id": "appointed-percentage",
   "metadata": {},
   "outputs": [],
   "source": [
    "els = [(i, str(data_folder / el[0]), get_disease_idx(el[1]), []) for (i,el) in enumerate(atlas_derm)]"
   ]
  },
  {
   "cell_type": "code",
   "execution_count": 29,
   "id": "falling-keeping",
   "metadata": {},
   "outputs": [],
   "source": [
    "els = list(filter(lambda el: el[2] >= 0, els))"
   ]
  },
  {
   "cell_type": "code",
   "execution_count": 30,
   "id": "tested-green",
   "metadata": {},
   "outputs": [
    {
     "data": {
      "text/plain": [
       "2740"
      ]
     },
     "execution_count": 30,
     "metadata": {},
     "output_type": "execute_result"
    }
   ],
   "source": [
    "len(els)"
   ]
  },
  {
   "cell_type": "code",
   "execution_count": 31,
   "id": "smaller-premises",
   "metadata": {},
   "outputs": [
    {
     "data": {
      "application/vnd.jupyter.widget-view+json": {
       "model_id": "342b3cefe58d48efae3b6e4b65dc6df0",
       "version_major": 2,
       "version_minor": 0
      },
      "text/plain": [
       "  0%|          | 0/2740 [00:00<?, ?it/s]"
      ]
     },
     "metadata": {},
     "output_type": "display_data"
    }
   ],
   "source": [
    "els = list(filter(lambda el: can_load_img(el[1]), tqdm(els)))"
   ]
  },
  {
   "cell_type": "code",
   "execution_count": 32,
   "id": "supposed-threat",
   "metadata": {},
   "outputs": [
    {
     "data": {
      "text/plain": [
       "2740"
      ]
     },
     "execution_count": 32,
     "metadata": {},
     "output_type": "execute_result"
    }
   ],
   "source": [
    "len(els)"
   ]
  },
  {
   "cell_type": "code",
   "execution_count": 33,
   "id": "nearby-funeral",
   "metadata": {},
   "outputs": [],
   "source": [
    "with open(lbl_folder / 'atlas_derm.pkl', 'wb') as g:\n",
    "    pickle.dump(els, g)"
   ]
  },
  {
   "cell_type": "markdown",
   "id": "classified-furniture",
   "metadata": {},
   "source": [
    "### hellenic"
   ]
  },
  {
   "cell_type": "code",
   "execution_count": 34,
   "id": "northern-convertible",
   "metadata": {},
   "outputs": [
    {
     "data": {
      "text/plain": [
       "2663"
      ]
     },
     "execution_count": 34,
     "metadata": {},
     "output_type": "execute_result"
    }
   ],
   "source": [
    "len(hellenic)"
   ]
  },
  {
   "cell_type": "code",
   "execution_count": 35,
   "id": "sustained-ocean",
   "metadata": {},
   "outputs": [
    {
     "data": {
      "text/plain": [
       "['hellenic/0000000.jpg', 'Dermatofibroma']"
      ]
     },
     "execution_count": 35,
     "metadata": {},
     "output_type": "execute_result"
    }
   ],
   "source": [
    "hellenic[0]"
   ]
  },
  {
   "cell_type": "code",
   "execution_count": 36,
   "id": "brown-radar",
   "metadata": {},
   "outputs": [],
   "source": [
    "els = [(i, str(data_folder / el[0]), get_disease_idx(el[1]), []) for (i,el) in enumerate(hellenic)]"
   ]
  },
  {
   "cell_type": "code",
   "execution_count": 37,
   "id": "exempt-ecuador",
   "metadata": {},
   "outputs": [],
   "source": [
    "els = list(filter(lambda el: el[2] >= 0, els))"
   ]
  },
  {
   "cell_type": "code",
   "execution_count": 38,
   "id": "administrative-hobby",
   "metadata": {},
   "outputs": [
    {
     "data": {
      "text/plain": [
       "944"
      ]
     },
     "execution_count": 38,
     "metadata": {},
     "output_type": "execute_result"
    }
   ],
   "source": [
    "len(els)"
   ]
  },
  {
   "cell_type": "code",
   "execution_count": 39,
   "id": "noted-donor",
   "metadata": {},
   "outputs": [
    {
     "data": {
      "application/vnd.jupyter.widget-view+json": {
       "model_id": "8ce6790f8a9f4b529802357ec70198c4",
       "version_major": 2,
       "version_minor": 0
      },
      "text/plain": [
       "  0%|          | 0/944 [00:00<?, ?it/s]"
      ]
     },
     "metadata": {},
     "output_type": "display_data"
    }
   ],
   "source": [
    "els = list(filter(lambda el: can_load_img(el[1]), tqdm(els)))"
   ]
  },
  {
   "cell_type": "code",
   "execution_count": 40,
   "id": "ranking-british",
   "metadata": {},
   "outputs": [
    {
     "data": {
      "text/plain": [
       "944"
      ]
     },
     "execution_count": 40,
     "metadata": {},
     "output_type": "execute_result"
    }
   ],
   "source": [
    "len(els)"
   ]
  },
  {
   "cell_type": "code",
   "execution_count": 41,
   "id": "million-money",
   "metadata": {},
   "outputs": [],
   "source": [
    "with open(lbl_folder / 'hellenic.pkl', 'wb') as g:\n",
    "    pickle.dump(els, g)"
   ]
  },
  {
   "cell_type": "markdown",
   "id": "wanted-solution",
   "metadata": {},
   "source": [
    "### dermnetnz"
   ]
  },
  {
   "cell_type": "code",
   "execution_count": 42,
   "id": "broken-toronto",
   "metadata": {},
   "outputs": [
    {
     "data": {
      "text/plain": [
       "8635"
      ]
     },
     "execution_count": 42,
     "metadata": {},
     "output_type": "execute_result"
    }
   ],
   "source": [
    "len(dermnetnz)"
   ]
  },
  {
   "cell_type": "code",
   "execution_count": 43,
   "id": "formal-habitat",
   "metadata": {},
   "outputs": [
    {
     "data": {
      "text/plain": [
       "['dermnetnz/0000000.jpg', 'Acne affecting the back images']"
      ]
     },
     "execution_count": 43,
     "metadata": {},
     "output_type": "execute_result"
    }
   ],
   "source": [
    "dermnetnz[0]"
   ]
  },
  {
   "cell_type": "code",
   "execution_count": 44,
   "id": "wanted-wrist",
   "metadata": {},
   "outputs": [],
   "source": [
    "els = [(i, str(data_folder / el[0]), get_disease_idx(el[1]), []) for (i,el) in enumerate(dermnetnz)]"
   ]
  },
  {
   "cell_type": "code",
   "execution_count": 45,
   "id": "prerequisite-forwarding",
   "metadata": {},
   "outputs": [],
   "source": [
    "els = list(filter(lambda el: el[2] >= 0, els))"
   ]
  },
  {
   "cell_type": "code",
   "execution_count": 46,
   "id": "returning-franklin",
   "metadata": {},
   "outputs": [
    {
     "data": {
      "text/plain": [
       "1710"
      ]
     },
     "execution_count": 46,
     "metadata": {},
     "output_type": "execute_result"
    }
   ],
   "source": [
    "len(els)"
   ]
  },
  {
   "cell_type": "code",
   "execution_count": 47,
   "id": "occupied-click",
   "metadata": {},
   "outputs": [
    {
     "data": {
      "application/vnd.jupyter.widget-view+json": {
       "model_id": "c5c925b9be2f44f5a9082f68df8ee12b",
       "version_major": 2,
       "version_minor": 0
      },
      "text/plain": [
       "  0%|          | 0/1710 [00:00<?, ?it/s]"
      ]
     },
     "metadata": {},
     "output_type": "display_data"
    }
   ],
   "source": [
    "els = list(filter(lambda el: can_load_img(el[1]), tqdm(els)))"
   ]
  },
  {
   "cell_type": "code",
   "execution_count": 48,
   "id": "classified-korea",
   "metadata": {},
   "outputs": [
    {
     "data": {
      "text/plain": [
       "1710"
      ]
     },
     "execution_count": 48,
     "metadata": {},
     "output_type": "execute_result"
    }
   ],
   "source": [
    "len(els)"
   ]
  },
  {
   "cell_type": "code",
   "execution_count": 49,
   "id": "difficult-estimate",
   "metadata": {},
   "outputs": [],
   "source": [
    "with open(lbl_folder / 'dermnetnz.pkl', 'wb') as g:\n",
    "    pickle.dump(els, g)"
   ]
  },
  {
   "cell_type": "markdown",
   "id": "dominant-bernard",
   "metadata": {},
   "source": [
    "### ulb"
   ]
  },
  {
   "cell_type": "code",
   "execution_count": 50,
   "id": "stable-violin",
   "metadata": {},
   "outputs": [
    {
     "data": {
      "text/plain": [
       "1207"
      ]
     },
     "execution_count": 50,
     "metadata": {},
     "output_type": "execute_result"
    }
   ],
   "source": [
    "len(ulb)"
   ]
  },
  {
   "cell_type": "code",
   "execution_count": 51,
   "id": "auburn-methodology",
   "metadata": {},
   "outputs": [
    {
     "data": {
      "text/plain": [
       "['Eczéma allergique de contact au sparadrap',\n",
       " 'Avant-bras',\n",
       " 'Vésicule, vésicule par spongiose',\n",
       " 'NaN',\n",
       " 'NaN',\n",
       " 'ulb/0000000.jpg']"
      ]
     },
     "execution_count": 51,
     "metadata": {},
     "output_type": "execute_result"
    }
   ],
   "source": [
    "ulb[0]"
   ]
  },
  {
   "cell_type": "code",
   "execution_count": 52,
   "id": "upper-southwest",
   "metadata": {},
   "outputs": [],
   "source": [
    "els = [(i, str(data_folder / el[-1]), get_disease_idx(el[0]), get_morph_idxs(el[2])) for (i,el) in enumerate(ulb)]"
   ]
  },
  {
   "cell_type": "code",
   "execution_count": 53,
   "id": "relevant-incentive",
   "metadata": {},
   "outputs": [],
   "source": [
    "els = list(filter(lambda el: el[2] >= 0, els))"
   ]
  },
  {
   "cell_type": "code",
   "execution_count": 54,
   "id": "diagnostic-alpha",
   "metadata": {},
   "outputs": [
    {
     "data": {
      "text/plain": [
       "319"
      ]
     },
     "execution_count": 54,
     "metadata": {},
     "output_type": "execute_result"
    }
   ],
   "source": [
    "len(els)"
   ]
  },
  {
   "cell_type": "code",
   "execution_count": 55,
   "id": "pursuant-miami",
   "metadata": {},
   "outputs": [
    {
     "data": {
      "application/vnd.jupyter.widget-view+json": {
       "model_id": "1519b2458e9340789d8d3ee48261e22b",
       "version_major": 2,
       "version_minor": 0
      },
      "text/plain": [
       "  0%|          | 0/319 [00:00<?, ?it/s]"
      ]
     },
     "metadata": {},
     "output_type": "display_data"
    }
   ],
   "source": [
    "els = list(filter(lambda el: can_load_img(el[1]), tqdm(els)))"
   ]
  },
  {
   "cell_type": "code",
   "execution_count": 56,
   "id": "weighted-capability",
   "metadata": {},
   "outputs": [
    {
     "data": {
      "text/plain": [
       "319"
      ]
     },
     "execution_count": 56,
     "metadata": {},
     "output_type": "execute_result"
    }
   ],
   "source": [
    "len(els)"
   ]
  },
  {
   "cell_type": "code",
   "execution_count": 57,
   "id": "committed-brand",
   "metadata": {},
   "outputs": [],
   "source": [
    "with open(lbl_folder / 'ulb.pkl', 'wb') as g:\n",
    "    pickle.dump(els, g)"
   ]
  },
  {
   "cell_type": "markdown",
   "id": "wanted-anchor",
   "metadata": {},
   "source": [
    "# Count"
   ]
  },
  {
   "cell_type": "code",
   "execution_count": 58,
   "id": "earlier-conditioning",
   "metadata": {},
   "outputs": [
    {
     "data": {
      "text/plain": [
       "[PosixPath('../_data_lbls/atlas_derm.pkl'),\n",
       " PosixPath('../_data_lbls/dermnetnz.pkl'),\n",
       " PosixPath('../_data_lbls/gsa.pkl'),\n",
       " PosixPath('../_data_lbls/hellenic.pkl'),\n",
       " PosixPath('../_data_lbls/mapping_diseases.pkl'),\n",
       " PosixPath('../_data_lbls/mapping_morph.pkl'),\n",
       " PosixPath('../_data_lbls/ulb.pkl')]"
      ]
     },
     "execution_count": 58,
     "metadata": {},
     "output_type": "execute_result"
    }
   ],
   "source": [
    "sorted(lbl_folder.iterdir())"
   ]
  },
  {
   "cell_type": "code",
   "execution_count": 59,
   "id": "conceptual-easter",
   "metadata": {},
   "outputs": [],
   "source": [
    "c = 0\n",
    "for fl in sorted(lbl_folder.iterdir()):\n",
    "    if not fl.name.startswith('mapping'):\n",
    "        with open(fl, 'rb') as f:\n",
    "            L = pickle.load(f)\n",
    "        c += len(L)"
   ]
  },
  {
   "cell_type": "code",
   "execution_count": 60,
   "id": "productive-cooking",
   "metadata": {},
   "outputs": [
    {
     "data": {
      "text/plain": [
       "7682"
      ]
     },
     "execution_count": 60,
     "metadata": {},
     "output_type": "execute_result"
    }
   ],
   "source": [
    "c"
   ]
  },
  {
   "cell_type": "code",
   "execution_count": 61,
   "id": "lesser-subject",
   "metadata": {},
   "outputs": [
    {
     "data": {
      "text/plain": [
       "23"
      ]
     },
     "execution_count": 61,
     "metadata": {},
     "output_type": "execute_result"
    }
   ],
   "source": [
    "len(list_ms)"
   ]
  },
  {
   "cell_type": "code",
   "execution_count": 62,
   "id": "tired-ambassador",
   "metadata": {},
   "outputs": [
    {
     "data": {
      "text/plain": [
       "[['hyperpigmentation',\n",
       "  'patch',\n",
       "  'hypopigmentation',\n",
       "  'purpura',\n",
       "  'macule brown',\n",
       "  'telangiectasia',\n",
       "  'macule red',\n",
       "  'macule white',\n",
       "  'macules',\n",
       "  'macule black',\n",
       "  'macula / patch',\n",
       "  'erythema',\n",
       "  'squame, lésion érythémato-squameuse',\n",
       "  'macule, érythème',\n",
       "  'macule, macule pigmentée',\n",
       "  'purpura',\n",
       "  'squame, lésion érythémato-squameusevésicule, vésicule par spongiose',\n",
       "  'macule, macule dépigmentée',\n",
       "  'livédo',\n",
       "  'multiples lésions pigmentées',\n",
       "  'pustulemacule, érythème',\n",
       "  'macule'],\n",
       " ['granulome'],\n",
       " ['nodule',\n",
       "  'nodule,purple',\n",
       "  'nodule pink',\n",
       "  'nodule,skin coloured',\n",
       "  'nodule,black',\n",
       "  'nodule,yellow',\n",
       "  'node',\n",
       "  'tumor',\n",
       "  'tumeur, tumeur maligne',\n",
       "  'tumeur, tumeur bénigne',\n",
       "  'tumeur',\n",
       "  'tumeur, carcinome spinocellulaire',\n",
       "  'tumeur, mélanome',\n",
       "  'nodule'],\n",
       " ['plaque',\n",
       "  'papules,red',\n",
       "  'papules,skin coloured',\n",
       "  'papules',\n",
       "  'papules,brown',\n",
       "  'papules,yellow',\n",
       "  'papules,black',\n",
       "  'papules white',\n",
       "  'comedone',\n",
       "  'papule',\n",
       "  'plaque',\n",
       "  'papulo-vesicle',\n",
       "  'papule, papule cellulaire',\n",
       "  'papule',\n",
       "  'lésion papulo-squameuse',\n",
       "  'papule, papulo-pustule',\n",
       "  'papule, papule oedémateuse',\n",
       "  'bullepapule, papule oedémateuseulcération',\n",
       "  'papule, papule nécrosante',\n",
       "  'macule, érythèmepapule, papule oedémateuse'],\n",
       " ['wheal', 'wheal', 'macule, érythèmepapule, papule oedémateuse'],\n",
       " ['vesicles',\n",
       "  'vesiculobullous',\n",
       "  'vesicle',\n",
       "  'papulo-vesicle',\n",
       "  'vésicule, vésicule par spongiose',\n",
       "  'papule, papule cellulaire',\n",
       "  'vésicule',\n",
       "  'squame, lésion érythémato-squameusevésicule, vésicule par spongiose',\n",
       "  'vésicule, vésicule par nécrose cellulaire',\n",
       "  'vésicule, vésicule par spongiosesquame, lésion érythémato-squameuse'],\n",
       " ['blisters',\n",
       "  'vesiculobullous',\n",
       "  'bulla',\n",
       "  'bulle, bulle dermo-épidermique',\n",
       "  'bulle',\n",
       "  'bullepapule, papule oedémateuseulcération',\n",
       "  'bulle, bulle sous-cornée',\n",
       "  'bulle, bulle sous-cornéeulcération'],\n",
       " ['pustules',\n",
       "  'abscess',\n",
       "  'cyst',\n",
       "  'pustule',\n",
       "  'papule, papulo-pustule',\n",
       "  'pustule',\n",
       "  'pustule, pustule folliculaire',\n",
       "  'pustulemacule, érythème',\n",
       "  'papuleulcération, chancre syphilitique'],\n",
       " ['lésion pigmentée'],\n",
       " [],\n",
       " ['erosions', 'erosion'],\n",
       " ['ulcer',\n",
       "  'ulcus',\n",
       "  'ulcération',\n",
       "  'ulcération, chancre syphilitique',\n",
       "  'papuleulcération, chancre syphilitique',\n",
       "  'bulle, bulle sous-cornéeulcération',\n",
       "  'lésion ulcérée'],\n",
       " ['red,scaly',\n",
       "  'scales',\n",
       "  'desquamation',\n",
       "  'crusted squames',\n",
       "  'squame, lésion érythémato-squameuse',\n",
       "  'lésion papulo-squameuse',\n",
       "  'squame, lésion érythémato-squameusevésicule, vésicule par spongiose',\n",
       "  'squame'],\n",
       " ['crusts', 'crust', 'crusted squames'],\n",
       " ['scar', 'scar'],\n",
       " [],\n",
       " ['excoriation', 'excoriation', 'lésion excoriée'],\n",
       " ['keratoderma',\n",
       "  'hyperkeratosis',\n",
       "  'keratosis',\n",
       "  'hyperkératose',\n",
       "  'hyperkératosesquame, lésion érythémato-squameuse',\n",
       "  'hypertrophiehyperkératose'],\n",
       " ['lichenification', 'lichenification'],\n",
       " [],\n",
       " ['sclerosis', 'sclerosis', 'sclérose'],\n",
       " [],\n",
       " ['atrophy', 'atrophy', 'atrophie', 'atrophie, cicatrice']]"
      ]
     },
     "execution_count": 62,
     "metadata": {},
     "output_type": "execute_result"
    }
   ],
   "source": [
    "list_ms"
   ]
  },
  {
   "cell_type": "code",
   "execution_count": null,
   "id": "academic-syndicate",
   "metadata": {},
   "outputs": [],
   "source": []
  }
 ],
 "metadata": {
  "kernelspec": {
   "display_name": "derm-dis-morph",
   "language": "python",
   "name": "derm-dis-morph"
  },
  "language_info": {
   "codemirror_mode": {
    "name": "ipython",
    "version": 3
   },
   "file_extension": ".py",
   "mimetype": "text/x-python",
   "name": "python",
   "nbconvert_exporter": "python",
   "pygments_lexer": "ipython3",
   "version": "3.6.12"
  }
 },
 "nbformat": 4,
 "nbformat_minor": 5
}
