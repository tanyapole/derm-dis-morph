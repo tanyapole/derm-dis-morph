{
 "cells": [
  {
   "cell_type": "code",
   "execution_count": 1,
   "id": "innovative-school",
   "metadata": {},
   "outputs": [],
   "source": [
    "import os\n",
    "import pickle \n",
    "import pandas as pd\n",
    "import numpy as np\n",
    "from PIL import Image\n",
    "from shutil import copyfile\n",
    "import pickle\n",
    "from tqdm.auto import tqdm\n",
    "from pathlib import Path"
   ]
  },
  {
   "cell_type": "code",
   "execution_count": 2,
   "id": "automotive-intranet",
   "metadata": {},
   "outputs": [],
   "source": [
    "data_folder = Path('/mnt/tank/scratch/tpolevaya/datasets/rash/public')"
   ]
  },
  {
   "cell_type": "code",
   "execution_count": 3,
   "id": "olive-green",
   "metadata": {},
   "outputs": [],
   "source": [
    "lbl_folder = Path('../_data_lbls')"
   ]
  },
  {
   "cell_type": "code",
   "execution_count": 4,
   "id": "naval-cancellation",
   "metadata": {},
   "outputs": [],
   "source": [
    "with open(lbl_folder / 'mapping_diseases.pkl', 'rb') as f: list_ds = pickle.load(f)\n",
    "with open(lbl_folder / 'mapping_morph.pkl', 'rb') as f: list_ms = pickle.load(f)"
   ]
  },
  {
   "cell_type": "code",
   "execution_count": 5,
   "id": "talented-canada",
   "metadata": {},
   "outputs": [],
   "source": [
    "list_ds_2 = [[el.lower().strip() for el in L] for L in list_ds]\n",
    "list_ms_2 = [[el.lower().strip() for el in L] for L in list_ms]"
   ]
  },
  {
   "cell_type": "code",
   "execution_count": 6,
   "id": "flexible-lunch",
   "metadata": {},
   "outputs": [],
   "source": [
    "with open(data_folder / 'gsa/images_gsa.pickle', 'rb') as f:\n",
    "    gsa = pickle.load(f)\n",
    "with open(data_folder / 'atlas_derm/image_atlas.pickle', 'rb') as f:\n",
    "    atlas_derm = pickle.load(f)\n",
    "with open(data_folder / 'hellenic/image_hellenic.pickle', 'rb') as f:\n",
    "    hellenic = pickle.load(f)\n",
    "with open(data_folder / 'dermnetnz/dermentnz_images.pickle', 'rb')  as f:\n",
    "    dermnetnz = pickle.load(f)\n",
    "with open(data_folder / 'ulb/image_ulb.pickle', 'rb') as f:\n",
    "    ulb = pickle.load(f)"
   ]
  },
  {
   "cell_type": "code",
   "execution_count": 7,
   "id": "artistic-rachel",
   "metadata": {},
   "outputs": [],
   "source": [
    "def get_disease_idx(name):\n",
    "    name = name.lower().strip()\n",
    "    for i, L in enumerate(list_ds_2):\n",
    "        if name in L:\n",
    "            return i\n",
    "    return -1\n",
    "def get_morph_idxs(names):\n",
    "    names = [n.lower().strip() for n in names.split(',')]\n",
    "    res = []\n",
    "    for i, L in enumerate(list_ms_2):\n",
    "        if len(set(names).intersection(set(L))) > 0:\n",
    "            res.append(i)\n",
    "    return res"
   ]
  },
  {
   "cell_type": "code",
   "execution_count": 8,
   "id": "guilty-cassette",
   "metadata": {},
   "outputs": [
    {
     "data": {
      "text/plain": [
       "2"
      ]
     },
     "execution_count": 8,
     "metadata": {},
     "output_type": "execute_result"
    }
   ],
   "source": [
    "get_disease_idx(' psorIAsis ')"
   ]
  },
  {
   "cell_type": "code",
   "execution_count": 9,
   "id": "presidential-portland",
   "metadata": {},
   "outputs": [
    {
     "data": {
      "text/plain": [
       "[1, 2, 3]"
      ]
     },
     "execution_count": 9,
     "metadata": {},
     "output_type": "execute_result"
    }
   ],
   "source": [
    "get_morph_idxs('Nodule, granulome,plaquE')"
   ]
  },
  {
   "cell_type": "code",
   "execution_count": 10,
   "id": "superior-today",
   "metadata": {},
   "outputs": [],
   "source": [
    "def can_load_img(pt):\n",
    "    try:\n",
    "        img = Image.open(pt)\n",
    "        return True\n",
    "    except:\n",
    "        return False"
   ]
  },
  {
   "cell_type": "markdown",
   "id": "tribal-gender",
   "metadata": {},
   "source": [
    "### GSA"
   ]
  },
  {
   "cell_type": "code",
   "execution_count": 11,
   "id": "written-generic",
   "metadata": {},
   "outputs": [
    {
     "data": {
      "text/plain": [
       "5932"
      ]
     },
     "execution_count": 11,
     "metadata": {},
     "output_type": "execute_result"
    }
   ],
   "source": [
    "len(gsa)"
   ]
  },
  {
   "cell_type": "code",
   "execution_count": 12,
   "id": "automated-vietnam",
   "metadata": {},
   "outputs": [
    {
     "data": {
      "text/plain": [
       "['gsa/0000000.jpg',\n",
       " ' red,scaly',\n",
       " ' psoriasis',\n",
       " ' foot,sole',\n",
       " ' m',\n",
       " ' 64',\n",
       " ' clinical',\n",
       " 0]"
      ]
     },
     "execution_count": 12,
     "metadata": {},
     "output_type": "execute_result"
    }
   ],
   "source": [
    "gsa[0]"
   ]
  },
  {
   "cell_type": "code",
   "execution_count": 13,
   "id": "possible-worry",
   "metadata": {},
   "outputs": [],
   "source": [
    "els = [(i, str(data_folder / el[0]), get_disease_idx(el[2]), get_morph_idxs(el[1])) for i,el in enumerate(gsa)]"
   ]
  },
  {
   "cell_type": "code",
   "execution_count": 14,
   "id": "japanese-floor",
   "metadata": {},
   "outputs": [],
   "source": [
    "els = list(filter(lambda el: el[2] >= 0, els))"
   ]
  },
  {
   "cell_type": "code",
   "execution_count": 15,
   "id": "optimum-science",
   "metadata": {},
   "outputs": [
    {
     "data": {
      "text/plain": [
       "1970"
      ]
     },
     "execution_count": 15,
     "metadata": {},
     "output_type": "execute_result"
    }
   ],
   "source": [
    "len(els)"
   ]
  },
  {
   "cell_type": "code",
   "execution_count": 16,
   "id": "quick-klein",
   "metadata": {},
   "outputs": [
    {
     "data": {
      "application/vnd.jupyter.widget-view+json": {
       "model_id": "82c3f57077b6432eb59d1687e1d8630a",
       "version_major": 2,
       "version_minor": 0
      },
      "text/plain": [
       "  0%|          | 0/1970 [00:00<?, ?it/s]"
      ]
     },
     "metadata": {},
     "output_type": "display_data"
    },
    {
     "name": "stderr",
     "output_type": "stream",
     "text": [
      "/mnt/tank/scratch/tpolevaya/miniconda3/envs/derm-dis-morph/lib/python3.6/site-packages/PIL/TiffImagePlugin.py:793: UserWarning: Corrupt EXIF data.  Expecting to read 4 bytes but only got 0. \n",
      "  warnings.warn(str(msg))\n"
     ]
    }
   ],
   "source": [
    "els = list(filter(lambda el: can_load_img(el[1]), tqdm(els)))"
   ]
  },
  {
   "cell_type": "code",
   "execution_count": 17,
   "id": "psychological-beauty",
   "metadata": {},
   "outputs": [
    {
     "data": {
      "text/plain": [
       "1969"
      ]
     },
     "execution_count": 17,
     "metadata": {},
     "output_type": "execute_result"
    }
   ],
   "source": [
    "len(els)"
   ]
  },
  {
   "cell_type": "code",
   "execution_count": 18,
   "id": "liked-parks",
   "metadata": {},
   "outputs": [],
   "source": [
    "with open(lbl_folder / 'gsa.pkl', 'wb') as g:\n",
    "    pickle.dump(els, g)"
   ]
  },
  {
   "cell_type": "code",
   "execution_count": 19,
   "id": "first-charlotte",
   "metadata": {},
   "outputs": [],
   "source": [
    "with open(lbl_folder / 'gsa.pkl', 'rb') as f:\n",
    "    els = pickle.load(f)"
   ]
  },
  {
   "cell_type": "code",
   "execution_count": 20,
   "id": "lesser-racing",
   "metadata": {},
   "outputs": [
    {
     "name": "stdout",
     "output_type": "stream",
     "text": [
      "0 71\n",
      "1 92\n",
      "2 196\n",
      "3 87\n",
      "4 32\n",
      "5 132\n",
      "6 280\n",
      "7 46\n",
      "8 128\n",
      "9 74\n",
      "10 357\n",
      "11 16\n",
      "12 60\n",
      "13 40\n",
      "14 87\n",
      "15 24\n",
      "16 54\n",
      "17 14\n",
      "18 8\n",
      "19 171\n"
     ]
    }
   ],
   "source": [
    "for i in range(len(list_ds_2)):\n",
    "    print(i, len(list(filter(lambda x: x[2] == i, els))))"
   ]
  },
  {
   "cell_type": "markdown",
   "id": "comparable-newfoundland",
   "metadata": {},
   "source": [
    "### atlas_derm"
   ]
  },
  {
   "cell_type": "code",
   "execution_count": 21,
   "id": "acquired-darwin",
   "metadata": {},
   "outputs": [
    {
     "data": {
      "text/plain": [
       "10857"
      ]
     },
     "execution_count": 21,
     "metadata": {},
     "output_type": "execute_result"
    }
   ],
   "source": [
    "len(atlas_derm)"
   ]
  },
  {
   "cell_type": "code",
   "execution_count": 22,
   "id": "reserved-jumping",
   "metadata": {},
   "outputs": [
    {
     "data": {
      "text/plain": [
       "['atlas_derm/0000000.jpg', 'acanthosis nigricans-benign']"
      ]
     },
     "execution_count": 22,
     "metadata": {},
     "output_type": "execute_result"
    }
   ],
   "source": [
    "atlas_derm[0]"
   ]
  },
  {
   "cell_type": "code",
   "execution_count": 23,
   "id": "higher-surface",
   "metadata": {},
   "outputs": [],
   "source": [
    "els = [(i, str(data_folder / el[0]), get_disease_idx(el[1]), []) for (i,el) in enumerate(atlas_derm)]"
   ]
  },
  {
   "cell_type": "code",
   "execution_count": 24,
   "id": "recorded-nashville",
   "metadata": {},
   "outputs": [],
   "source": [
    "els = list(filter(lambda el: el[2] >= 0, els))"
   ]
  },
  {
   "cell_type": "code",
   "execution_count": 25,
   "id": "impressed-reservoir",
   "metadata": {},
   "outputs": [
    {
     "data": {
      "text/plain": [
       "2740"
      ]
     },
     "execution_count": 25,
     "metadata": {},
     "output_type": "execute_result"
    }
   ],
   "source": [
    "len(els)"
   ]
  },
  {
   "cell_type": "code",
   "execution_count": 26,
   "id": "impaired-soldier",
   "metadata": {},
   "outputs": [
    {
     "data": {
      "application/vnd.jupyter.widget-view+json": {
       "model_id": "58581c43577c46bf8d57cd97f8a19e8f",
       "version_major": 2,
       "version_minor": 0
      },
      "text/plain": [
       "  0%|          | 0/2740 [00:00<?, ?it/s]"
      ]
     },
     "metadata": {},
     "output_type": "display_data"
    }
   ],
   "source": [
    "els = list(filter(lambda el: can_load_img(el[1]), tqdm(els)))"
   ]
  },
  {
   "cell_type": "code",
   "execution_count": 27,
   "id": "electric-calvin",
   "metadata": {},
   "outputs": [
    {
     "data": {
      "text/plain": [
       "2740"
      ]
     },
     "execution_count": 27,
     "metadata": {},
     "output_type": "execute_result"
    }
   ],
   "source": [
    "len(els)"
   ]
  },
  {
   "cell_type": "code",
   "execution_count": 28,
   "id": "introductory-catalog",
   "metadata": {},
   "outputs": [],
   "source": [
    "with open(lbl_folder / 'atlas_derm.pkl', 'wb') as g:\n",
    "    pickle.dump(els, g)"
   ]
  },
  {
   "cell_type": "markdown",
   "id": "signed-victoria",
   "metadata": {},
   "source": [
    "### hellenic"
   ]
  },
  {
   "cell_type": "code",
   "execution_count": 29,
   "id": "periodic-carry",
   "metadata": {},
   "outputs": [
    {
     "data": {
      "text/plain": [
       "2663"
      ]
     },
     "execution_count": 29,
     "metadata": {},
     "output_type": "execute_result"
    }
   ],
   "source": [
    "len(hellenic)"
   ]
  },
  {
   "cell_type": "code",
   "execution_count": 30,
   "id": "starting-grounds",
   "metadata": {},
   "outputs": [
    {
     "data": {
      "text/plain": [
       "['hellenic/0000000.jpg', 'Dermatofibroma']"
      ]
     },
     "execution_count": 30,
     "metadata": {},
     "output_type": "execute_result"
    }
   ],
   "source": [
    "hellenic[0]"
   ]
  },
  {
   "cell_type": "code",
   "execution_count": 31,
   "id": "labeled-fishing",
   "metadata": {},
   "outputs": [],
   "source": [
    "els = [(i, str(data_folder / el[0]), get_disease_idx(el[1]), []) for (i,el) in enumerate(hellenic)]"
   ]
  },
  {
   "cell_type": "code",
   "execution_count": 32,
   "id": "wrong-football",
   "metadata": {},
   "outputs": [],
   "source": [
    "els = list(filter(lambda el: el[2] >= 0, els))"
   ]
  },
  {
   "cell_type": "code",
   "execution_count": 33,
   "id": "treated-thursday",
   "metadata": {},
   "outputs": [
    {
     "data": {
      "text/plain": [
       "944"
      ]
     },
     "execution_count": 33,
     "metadata": {},
     "output_type": "execute_result"
    }
   ],
   "source": [
    "len(els)"
   ]
  },
  {
   "cell_type": "code",
   "execution_count": 34,
   "id": "independent-peninsula",
   "metadata": {},
   "outputs": [
    {
     "data": {
      "application/vnd.jupyter.widget-view+json": {
       "model_id": "4466db29dba446748e147e3671445802",
       "version_major": 2,
       "version_minor": 0
      },
      "text/plain": [
       "  0%|          | 0/944 [00:00<?, ?it/s]"
      ]
     },
     "metadata": {},
     "output_type": "display_data"
    }
   ],
   "source": [
    "els = list(filter(lambda el: can_load_img(el[1]), tqdm(els)))"
   ]
  },
  {
   "cell_type": "code",
   "execution_count": 35,
   "id": "hydraulic-title",
   "metadata": {},
   "outputs": [
    {
     "data": {
      "text/plain": [
       "944"
      ]
     },
     "execution_count": 35,
     "metadata": {},
     "output_type": "execute_result"
    }
   ],
   "source": [
    "len(els)"
   ]
  },
  {
   "cell_type": "code",
   "execution_count": 36,
   "id": "gothic-arthritis",
   "metadata": {},
   "outputs": [],
   "source": [
    "with open(lbl_folder / 'hellenic.pkl', 'wb') as g:\n",
    "    pickle.dump(els, g)"
   ]
  },
  {
   "cell_type": "markdown",
   "id": "hawaiian-popularity",
   "metadata": {},
   "source": [
    "### dermnetnz"
   ]
  },
  {
   "cell_type": "code",
   "execution_count": 37,
   "id": "alpine-husband",
   "metadata": {},
   "outputs": [
    {
     "data": {
      "text/plain": [
       "8635"
      ]
     },
     "execution_count": 37,
     "metadata": {},
     "output_type": "execute_result"
    }
   ],
   "source": [
    "len(dermnetnz)"
   ]
  },
  {
   "cell_type": "code",
   "execution_count": 38,
   "id": "gross-devices",
   "metadata": {},
   "outputs": [
    {
     "data": {
      "text/plain": [
       "['dermnetnz/0000000.jpg', 'Acne affecting the back images']"
      ]
     },
     "execution_count": 38,
     "metadata": {},
     "output_type": "execute_result"
    }
   ],
   "source": [
    "dermnetnz[0]"
   ]
  },
  {
   "cell_type": "code",
   "execution_count": 39,
   "id": "funny-salvation",
   "metadata": {},
   "outputs": [],
   "source": [
    "els = [(i, str(data_folder / el[0]), get_disease_idx(el[1]), []) for (i,el) in enumerate(dermnetnz)]"
   ]
  },
  {
   "cell_type": "code",
   "execution_count": 40,
   "id": "piano-greenhouse",
   "metadata": {},
   "outputs": [],
   "source": [
    "els = list(filter(lambda el: el[2] >= 0, els))"
   ]
  },
  {
   "cell_type": "code",
   "execution_count": 41,
   "id": "adolescent-access",
   "metadata": {},
   "outputs": [
    {
     "data": {
      "text/plain": [
       "1710"
      ]
     },
     "execution_count": 41,
     "metadata": {},
     "output_type": "execute_result"
    }
   ],
   "source": [
    "len(els)"
   ]
  },
  {
   "cell_type": "code",
   "execution_count": 42,
   "id": "immediate-exhibit",
   "metadata": {},
   "outputs": [
    {
     "data": {
      "application/vnd.jupyter.widget-view+json": {
       "model_id": "b6641929fcb7497795bde39331b8d248",
       "version_major": 2,
       "version_minor": 0
      },
      "text/plain": [
       "  0%|          | 0/1710 [00:00<?, ?it/s]"
      ]
     },
     "metadata": {},
     "output_type": "display_data"
    }
   ],
   "source": [
    "els = list(filter(lambda el: can_load_img(el[1]), tqdm(els)))"
   ]
  },
  {
   "cell_type": "code",
   "execution_count": 43,
   "id": "bacterial-health",
   "metadata": {},
   "outputs": [
    {
     "data": {
      "text/plain": [
       "1710"
      ]
     },
     "execution_count": 43,
     "metadata": {},
     "output_type": "execute_result"
    }
   ],
   "source": [
    "len(els)"
   ]
  },
  {
   "cell_type": "code",
   "execution_count": 44,
   "id": "killing-alexander",
   "metadata": {},
   "outputs": [],
   "source": [
    "with open(lbl_folder / 'dermnetnz.pkl', 'wb') as g:\n",
    "    pickle.dump(els, g)"
   ]
  },
  {
   "cell_type": "markdown",
   "id": "received-stadium",
   "metadata": {},
   "source": [
    "### ulb"
   ]
  },
  {
   "cell_type": "code",
   "execution_count": 45,
   "id": "sixth-combine",
   "metadata": {},
   "outputs": [
    {
     "data": {
      "text/plain": [
       "1207"
      ]
     },
     "execution_count": 45,
     "metadata": {},
     "output_type": "execute_result"
    }
   ],
   "source": [
    "len(ulb)"
   ]
  },
  {
   "cell_type": "code",
   "execution_count": 46,
   "id": "indie-first",
   "metadata": {},
   "outputs": [
    {
     "data": {
      "text/plain": [
       "['Eczéma allergique de contact au sparadrap',\n",
       " 'Avant-bras',\n",
       " 'Vésicule, vésicule par spongiose',\n",
       " 'NaN',\n",
       " 'NaN',\n",
       " 'ulb/0000000.jpg']"
      ]
     },
     "execution_count": 46,
     "metadata": {},
     "output_type": "execute_result"
    }
   ],
   "source": [
    "ulb[0]"
   ]
  },
  {
   "cell_type": "code",
   "execution_count": 47,
   "id": "medieval-bouquet",
   "metadata": {},
   "outputs": [],
   "source": [
    "els = [(i, str(data_folder / el[-1]), get_disease_idx(el[0]), get_morph_idxs(el[2])) for (i,el) in enumerate(ulb)]"
   ]
  },
  {
   "cell_type": "code",
   "execution_count": 48,
   "id": "insured-electricity",
   "metadata": {},
   "outputs": [],
   "source": [
    "els = list(filter(lambda el: el[2] >= 0, els))"
   ]
  },
  {
   "cell_type": "code",
   "execution_count": 49,
   "id": "legendary-raise",
   "metadata": {},
   "outputs": [
    {
     "data": {
      "text/plain": [
       "319"
      ]
     },
     "execution_count": 49,
     "metadata": {},
     "output_type": "execute_result"
    }
   ],
   "source": [
    "len(els)"
   ]
  },
  {
   "cell_type": "code",
   "execution_count": 50,
   "id": "commercial-bubble",
   "metadata": {},
   "outputs": [
    {
     "data": {
      "application/vnd.jupyter.widget-view+json": {
       "model_id": "1be190ff83974f7893020308e47df155",
       "version_major": 2,
       "version_minor": 0
      },
      "text/plain": [
       "  0%|          | 0/319 [00:00<?, ?it/s]"
      ]
     },
     "metadata": {},
     "output_type": "display_data"
    }
   ],
   "source": [
    "els = list(filter(lambda el: can_load_img(el[1]), tqdm(els)))"
   ]
  },
  {
   "cell_type": "code",
   "execution_count": 51,
   "id": "tutorial-killer",
   "metadata": {},
   "outputs": [
    {
     "data": {
      "text/plain": [
       "319"
      ]
     },
     "execution_count": 51,
     "metadata": {},
     "output_type": "execute_result"
    }
   ],
   "source": [
    "len(els)"
   ]
  },
  {
   "cell_type": "code",
   "execution_count": 52,
   "id": "integrated-things",
   "metadata": {},
   "outputs": [],
   "source": [
    "with open(lbl_folder / 'ulb.pkl', 'wb') as g:\n",
    "    pickle.dump(els, g)"
   ]
  },
  {
   "cell_type": "markdown",
   "id": "graduate-extension",
   "metadata": {},
   "source": [
    "# Count"
   ]
  },
  {
   "cell_type": "code",
   "execution_count": 53,
   "id": "respective-photographer",
   "metadata": {},
   "outputs": [
    {
     "data": {
      "text/plain": [
       "[PosixPath('../_data_lbls/atlas_derm.pkl'),\n",
       " PosixPath('../_data_lbls/chicago.pkl'),\n",
       " PosixPath('../_data_lbls/compatibility.pkl'),\n",
       " PosixPath('../_data_lbls/dermis.pkl'),\n",
       " PosixPath('../_data_lbls/dermnet.pkl'),\n",
       " PosixPath('../_data_lbls/dermnetnz.pkl'),\n",
       " PosixPath('../_data_lbls/gsa.pkl'),\n",
       " PosixPath('../_data_lbls/hellenic.pkl'),\n",
       " PosixPath('../_data_lbls/iowa.pkl'),\n",
       " PosixPath('../_data_lbls/mapping_diseases.pkl'),\n",
       " PosixPath('../_data_lbls/mapping_morph.pkl'),\n",
       " PosixPath('../_data_lbls/ulb.pkl')]"
      ]
     },
     "execution_count": 53,
     "metadata": {},
     "output_type": "execute_result"
    }
   ],
   "source": [
    "sorted(lbl_folder.iterdir())"
   ]
  },
  {
   "cell_type": "code",
   "execution_count": 54,
   "id": "functioning-senegal",
   "metadata": {},
   "outputs": [],
   "source": [
    "c = 0\n",
    "for fl in sorted(lbl_folder.iterdir()):\n",
    "    if not fl.name.startswith('mapping'):\n",
    "        with open(fl, 'rb') as f:\n",
    "            L = pickle.load(f)\n",
    "        c += len(L)"
   ]
  },
  {
   "cell_type": "code",
   "execution_count": 55,
   "id": "valid-observation",
   "metadata": {},
   "outputs": [
    {
     "data": {
      "text/plain": [
       "17352"
      ]
     },
     "execution_count": 55,
     "metadata": {},
     "output_type": "execute_result"
    }
   ],
   "source": [
    "c"
   ]
  },
  {
   "cell_type": "code",
   "execution_count": 56,
   "id": "virtual-voice",
   "metadata": {},
   "outputs": [
    {
     "data": {
      "text/plain": [
       "23"
      ]
     },
     "execution_count": 56,
     "metadata": {},
     "output_type": "execute_result"
    }
   ],
   "source": [
    "len(list_ms)"
   ]
  },
  {
   "cell_type": "code",
   "execution_count": 57,
   "id": "derived-lucas",
   "metadata": {},
   "outputs": [
    {
     "data": {
      "text/plain": [
       "[['hyperpigmentation',\n",
       "  'patch',\n",
       "  'hypopigmentation',\n",
       "  'purpura',\n",
       "  'macule brown',\n",
       "  'telangiectasia',\n",
       "  'macule red',\n",
       "  'macule white',\n",
       "  'macules',\n",
       "  'macule black',\n",
       "  'macula / patch',\n",
       "  'erythema',\n",
       "  'squame, lésion érythémato-squameuse',\n",
       "  'macule, érythème',\n",
       "  'macule, macule pigmentée',\n",
       "  'purpura',\n",
       "  'squame, lésion érythémato-squameusevésicule, vésicule par spongiose',\n",
       "  'macule, macule dépigmentée',\n",
       "  'livédo',\n",
       "  'multiples lésions pigmentées',\n",
       "  'pustulemacule, érythème',\n",
       "  'macule'],\n",
       " ['granulome'],\n",
       " ['nodule',\n",
       "  'nodule,purple',\n",
       "  'nodule pink',\n",
       "  'nodule,skin coloured',\n",
       "  'nodule,black',\n",
       "  'nodule,yellow',\n",
       "  'node',\n",
       "  'tumor',\n",
       "  'tumeur, tumeur maligne',\n",
       "  'tumeur, tumeur bénigne',\n",
       "  'tumeur',\n",
       "  'tumeur, carcinome spinocellulaire',\n",
       "  'tumeur, mélanome',\n",
       "  'nodule'],\n",
       " ['plaque',\n",
       "  'papules,red',\n",
       "  'papules,skin coloured',\n",
       "  'papules',\n",
       "  'papules,brown',\n",
       "  'papules,yellow',\n",
       "  'papules,black',\n",
       "  'papules white',\n",
       "  'comedone',\n",
       "  'papule',\n",
       "  'plaque',\n",
       "  'papulo-vesicle',\n",
       "  'papule, papule cellulaire',\n",
       "  'papule',\n",
       "  'lésion papulo-squameuse',\n",
       "  'papule, papulo-pustule',\n",
       "  'papule, papule oedémateuse',\n",
       "  'bullepapule, papule oedémateuseulcération',\n",
       "  'papule, papule nécrosante',\n",
       "  'macule, érythèmepapule, papule oedémateuse'],\n",
       " ['wheal', 'wheal', 'macule, érythèmepapule, papule oedémateuse'],\n",
       " ['vesicles',\n",
       "  'vesiculobullous',\n",
       "  'vesicle',\n",
       "  'papulo-vesicle',\n",
       "  'vésicule, vésicule par spongiose',\n",
       "  'papule, papule cellulaire',\n",
       "  'vésicule',\n",
       "  'squame, lésion érythémato-squameusevésicule, vésicule par spongiose',\n",
       "  'vésicule, vésicule par nécrose cellulaire',\n",
       "  'vésicule, vésicule par spongiosesquame, lésion érythémato-squameuse'],\n",
       " ['blisters',\n",
       "  'vesiculobullous',\n",
       "  'bulla',\n",
       "  'bulle, bulle dermo-épidermique',\n",
       "  'bulle',\n",
       "  'bullepapule, papule oedémateuseulcération',\n",
       "  'bulle, bulle sous-cornée',\n",
       "  'bulle, bulle sous-cornéeulcération'],\n",
       " ['pustules',\n",
       "  'abscess',\n",
       "  'cyst',\n",
       "  'pustule',\n",
       "  'papule, papulo-pustule',\n",
       "  'pustule',\n",
       "  'pustule, pustule folliculaire',\n",
       "  'pustulemacule, érythème',\n",
       "  'papuleulcération, chancre syphilitique'],\n",
       " ['lésion pigmentée'],\n",
       " [],\n",
       " ['erosions', 'erosion'],\n",
       " ['ulcer',\n",
       "  'ulcus',\n",
       "  'ulcération',\n",
       "  'ulcération, chancre syphilitique',\n",
       "  'papuleulcération, chancre syphilitique',\n",
       "  'bulle, bulle sous-cornéeulcération',\n",
       "  'lésion ulcérée'],\n",
       " ['red,scaly',\n",
       "  'scales',\n",
       "  'desquamation',\n",
       "  'crusted squames',\n",
       "  'squame, lésion érythémato-squameuse',\n",
       "  'lésion papulo-squameuse',\n",
       "  'squame, lésion érythémato-squameusevésicule, vésicule par spongiose',\n",
       "  'squame'],\n",
       " ['crusts', 'crust', 'crusted squames'],\n",
       " ['scar', 'scar'],\n",
       " [],\n",
       " ['excoriation', 'excoriation', 'lésion excoriée'],\n",
       " ['keratoderma',\n",
       "  'hyperkeratosis',\n",
       "  'keratosis',\n",
       "  'hyperkératose',\n",
       "  'hyperkératosesquame, lésion érythémato-squameuse',\n",
       "  'hypertrophiehyperkératose'],\n",
       " ['lichenification', 'lichenification'],\n",
       " [],\n",
       " ['sclerosis', 'sclerosis', 'sclérose'],\n",
       " [],\n",
       " ['atrophy', 'atrophy', 'atrophie', 'atrophie, cicatrice']]"
      ]
     },
     "execution_count": 57,
     "metadata": {},
     "output_type": "execute_result"
    }
   ],
   "source": [
    "list_ms"
   ]
  },
  {
   "cell_type": "code",
   "execution_count": null,
   "id": "offshore-triangle",
   "metadata": {},
   "outputs": [],
   "source": []
  },
  {
   "cell_type": "code",
   "execution_count": null,
   "id": "fleet-relaxation",
   "metadata": {},
   "outputs": [],
   "source": []
  },
  {
   "cell_type": "code",
   "execution_count": null,
   "id": "moving-relevance",
   "metadata": {},
   "outputs": [],
   "source": []
  }
 ],
 "metadata": {
  "kernelspec": {
   "display_name": "derm-dis-morph",
   "language": "python",
   "name": "derm-dis-morph"
  },
  "language_info": {
   "codemirror_mode": {
    "name": "ipython",
    "version": 3
   },
   "file_extension": ".py",
   "mimetype": "text/x-python",
   "name": "python",
   "nbconvert_exporter": "python",
   "pygments_lexer": "ipython3",
   "version": "3.6.12"
  }
 },
 "nbformat": 4,
 "nbformat_minor": 5
}
