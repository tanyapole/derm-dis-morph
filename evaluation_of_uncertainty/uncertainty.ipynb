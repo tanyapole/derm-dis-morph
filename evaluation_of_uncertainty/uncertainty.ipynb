{
 "cells": [
  {
   "cell_type": "code",
   "execution_count": 91,
   "id": "chemical-cleaning",
   "metadata": {},
   "outputs": [],
   "source": [
    "from data_specific import *\n",
    "\n",
    "# data\n",
    "from torch.utils.data import DataLoader\n",
    "import data_handling\n",
    "import augmenting as A\n",
    "\n",
    "# training\n",
    "import model_saving, training, model_creating, metrics\n",
    "import wandb\n",
    "import torch, torch.nn as nn\n",
    "from tqdm.auto import tqdm\n",
    "from pathlib import Path\n",
    "from evaluating import evaluate\n",
    "import numpy as np\n",
    "\n",
    "# unceratinty\n",
    "import matplotlib.pyplot as plt\n",
    "import seaborn as sns\n",
    "import torchvision.datasets\n",
    "import torchvision.transforms as TF"
   ]
  },
  {
   "cell_type": "code",
   "execution_count": 2,
   "id": "primary-apple",
   "metadata": {},
   "outputs": [],
   "source": [
    "device = torch.device(f'cuda:1')"
   ]
  },
  {
   "cell_type": "code",
   "execution_count": 10,
   "id": "broken-ghana",
   "metadata": {},
   "outputs": [
    {
     "name": "stdout",
     "output_type": "stream",
     "text": [
      "Using datasets:  gsa, ulb, atlas_derm, hellenic, dermnetnz\n",
      "Hadling 7682 data instances\n"
     ]
    },
    {
     "data": {
      "application/vnd.jupyter.widget-view+json": {
       "model_id": "9e27feccc4854f0daf6c71712ed9bbff",
       "version_major": 2,
       "version_minor": 0
      },
      "text/plain": [
       "  0%|          | 0/1537 [00:00<?, ?it/s]"
      ]
     },
     "metadata": {},
     "output_type": "display_data"
    }
   ],
   "source": [
    "data = Data.Diseases\n",
    "ds_create_fn = get_ds_create_fn(data)\n",
    "val_ds = ds_create_fn(trn_augm=None, is_demo=False, fold=None, only_val=True)"
   ]
  },
  {
   "cell_type": "code",
   "execution_count": 11,
   "id": "large-barcelona",
   "metadata": {},
   "outputs": [],
   "source": [
    "bs = 50\n",
    "val_dl = DataLoader(val_ds, batch_size=bs, shuffle=False)"
   ]
  },
  {
   "cell_type": "code",
   "execution_count": 12,
   "id": "bacterial-assist",
   "metadata": {},
   "outputs": [],
   "source": [
    "NUM_CLASSES = get_num_classes(data)\n",
    "model = model_creating.create_model(NUM_CLASSES).to(device)"
   ]
  },
  {
   "cell_type": "markdown",
   "id": "informative-salad",
   "metadata": {},
   "source": [
    "## загрузить модели"
   ]
  },
  {
   "cell_type": "code",
   "execution_count": 15,
   "id": "threaded-teddy",
   "metadata": {},
   "outputs": [],
   "source": [
    "fldrs = ['logs/weights/run_20210608_113432',\n",
    "         'logs/weights/run_20210608_113224',\n",
    "         'logs/weights/run_20210608_113219',\n",
    "         'logs/weights/run_20210608_142811',\n",
    "         'logs/weights/run_20210608_140849']"
   ]
  },
  {
   "cell_type": "code",
   "execution_count": 16,
   "id": "freelance-camel",
   "metadata": {},
   "outputs": [],
   "source": [
    "def load_model(fldr, num_classes):\n",
    "    m = model_creating.create_model(num_classes)\n",
    "    src_fldr = Path('.') #'../derm-dis-morph')\n",
    "    pt = list((src_fldr/fldr).iterdir())[0]\n",
    "    m.load_state_dict(torch.load(pt))\n",
    "    m = m.to(device).eval()\n",
    "    return m"
   ]
  },
  {
   "cell_type": "code",
   "execution_count": 19,
   "id": "federal-slovenia",
   "metadata": {},
   "outputs": [
    {
     "data": {
      "application/vnd.jupyter.widget-view+json": {
       "model_id": "",
       "version_major": 2,
       "version_minor": 0
      },
      "text/plain": [
       "  0%|          | 0/5 [00:00<?, ?it/s]"
      ]
     },
     "metadata": {},
     "output_type": "display_data"
    }
   ],
   "source": [
    "models = [load_model(fldr, NUM_CLASSES) for fldr in tqdm(fldrs, leave=False)]"
   ]
  },
  {
   "cell_type": "code",
   "execution_count": 54,
   "id": "genetic-rainbow",
   "metadata": {},
   "outputs": [],
   "source": [
    "def _np(t): return t.detach().cpu().numpy()\n",
    "def inference(model, dl, device):\n",
    "    model.eval()\n",
    "    preds, targs = [], []\n",
    "    softmax = nn.Softmax(dim=1)\n",
    "    for b in tqdm(dl, leave=False, desc='Inference'):\n",
    "        imgs, lbls = b[0].to(device), b[1].to(device)\n",
    "        with torch.no_grad(): \n",
    "            out = model(imgs)\n",
    "        preds.append(_np(softmax(out)))\n",
    "        targs.append(_np(lbls))\n",
    "    preds = np.concatenate(preds, axis=0)\n",
    "    targs = np.concatenate(targs, axis=0)\n",
    "    return preds, targs\n",
    "def get_entropy(probs):\n",
    "    return np.sum(-probs*np.log(probs), axis=1)\n",
    "def get_expected(L):\n",
    "    return np.stack(L, axis=0).mean(axis=0)"
   ]
  },
  {
   "cell_type": "code",
   "execution_count": 42,
   "id": "chronic-response",
   "metadata": {},
   "outputs": [
    {
     "data": {
      "application/vnd.jupyter.widget-view+json": {
       "model_id": "24c49df476c3443fb79735867f4d5843",
       "version_major": 2,
       "version_minor": 0
      },
      "text/plain": [
       "  0%|          | 0/5 [00:00<?, ?it/s]"
      ]
     },
     "metadata": {},
     "output_type": "display_data"
    },
    {
     "data": {
      "application/vnd.jupyter.widget-view+json": {
       "model_id": "",
       "version_major": 2,
       "version_minor": 0
      },
      "text/plain": [
       "Inference:   0%|          | 0/31 [00:00<?, ?it/s]"
      ]
     },
     "metadata": {},
     "output_type": "display_data"
    },
    {
     "data": {
      "application/vnd.jupyter.widget-view+json": {
       "model_id": "",
       "version_major": 2,
       "version_minor": 0
      },
      "text/plain": [
       "Inference:   0%|          | 0/31 [00:00<?, ?it/s]"
      ]
     },
     "metadata": {},
     "output_type": "display_data"
    },
    {
     "data": {
      "application/vnd.jupyter.widget-view+json": {
       "model_id": "",
       "version_major": 2,
       "version_minor": 0
      },
      "text/plain": [
       "Inference:   0%|          | 0/31 [00:00<?, ?it/s]"
      ]
     },
     "metadata": {},
     "output_type": "display_data"
    },
    {
     "data": {
      "application/vnd.jupyter.widget-view+json": {
       "model_id": "",
       "version_major": 2,
       "version_minor": 0
      },
      "text/plain": [
       "Inference:   0%|          | 0/31 [00:00<?, ?it/s]"
      ]
     },
     "metadata": {},
     "output_type": "display_data"
    },
    {
     "data": {
      "application/vnd.jupyter.widget-view+json": {
       "model_id": "",
       "version_major": 2,
       "version_minor": 0
      },
      "text/plain": [
       "Inference:   0%|          | 0/31 [00:00<?, ?it/s]"
      ]
     },
     "metadata": {},
     "output_type": "display_data"
    }
   ],
   "source": [
    "predictions = [inference(m, val_dl, device) for m in tqdm(models)]\n",
    "probs = [_[0] for _ in predictions]\n",
    "labels = [_[1] for _ in predictions]\n",
    "\n",
    "expected_probs = get_expected(probs)\n",
    "entropy_of_expected = get_entropy(expected_probs)\n",
    "expected_entropy = get_expected([get_entropy(_) for _ in probs])\n",
    "\n",
    "totalU = entropy_of_expected\n",
    "dataU = expected_entropy\n",
    "knowU = totalU - dataU\n",
    "\n",
    "ensemble_preds = np.argmax(expected_probs, axis=-1)\n",
    "errors = (ensemble_preds != labels[0])"
   ]
  },
  {
   "cell_type": "markdown",
   "id": "banner-bryan",
   "metadata": {},
   "source": [
    "### totalU must be ~ 0"
   ]
  },
  {
   "cell_type": "code",
   "execution_count": 64,
   "id": "applied-escape",
   "metadata": {},
   "outputs": [
    {
     "name": "stderr",
     "output_type": "stream",
     "text": [
      "/mnt/tank/scratch/tpolevaya/miniconda3/envs/derm-dis-morph/lib/python3.6/site-packages/seaborn/distributions.py:2557: FutureWarning: `distplot` is a deprecated function and will be removed in a future version. Please adapt your code to use either `displot` (a figure-level function with similar flexibility) or `histplot` (an axes-level function for histograms).\n",
      "  warnings.warn(msg, FutureWarning)\n"
     ]
    },
    {
     "data": {
      "image/png": "[encoded data removed]",
      "text/plain": [
       "<Figure size 432x288 with 1 Axes>"
      ]
     },
     "metadata": {
      "needs_background": "light"
     },
     "output_type": "display_data"
    }
   ],
   "source": [
    "fig = plt.figure(figsize=(6,4))\n",
    "sns.distplot(totalU, bins=100)\n",
    "plt.title('Distribution of total uncertainty', fontsize=18)\n",
    "plt.grid()"
   ]
  },
  {
   "cell_type": "markdown",
   "id": "commercial-sponsorship",
   "metadata": {},
   "source": [
    "### more errors on totally uncertain cases"
   ]
  },
  {
   "cell_type": "code",
   "execution_count": 84,
   "id": "demonstrated-attachment",
   "metadata": {},
   "outputs": [
    {
     "data": {
      "image/png": "[encoded data removed]",
      "text/plain": [
       "<Figure size 432x288 with 1 Axes>"
      ]
     },
     "metadata": {
      "needs_background": "light"
     },
     "output_type": "display_data"
    }
   ],
   "source": [
    "# total_uncertainty_order_error_cumsum = np.cumsum(errors[all_entropy_of_expected.argsort()])\n",
    "errors_sorted = errors[totalU.argsort()]\n",
    "fig = plt.figure(figsize=(6,4))\n",
    "plt.plot(errors_sorted)\n",
    "plt.xlabel('Example_id', fontsize=18)\n",
    "plt.ylabel('Errors sum', fontsize=18)\n",
    "plt.title(\"Error rate from low to high total uncertainty\", fontsize=18)\n",
    "plt.grid()"
   ]
  },
  {
   "cell_type": "code",
   "execution_count": 85,
   "id": "revised-percentage",
   "metadata": {},
   "outputs": [
    {
     "data": {
      "image/png": "[encoded data removed]",
      "text/plain": [
       "<Figure size 432x288 with 1 Axes>"
      ]
     },
     "metadata": {
      "needs_background": "light"
     },
     "output_type": "display_data"
    }
   ],
   "source": [
    "fig = plt.figure(figsize=(6,4))\n",
    "plt.plot(np.cumsum(errors_sorted))\n",
    "plt.xlabel('Example_id', fontsize=18)\n",
    "plt.ylabel('Errors sum', fontsize=18)\n",
    "plt.title(\"Change of total error if we go from low to high total uncertainty\", fontsize=18)\n",
    "plt.grid()"
   ]
  },
  {
   "cell_type": "markdown",
   "id": "missing-bunch",
   "metadata": {},
   "source": [
    "# OOD"
   ]
  },
  {
   "cell_type": "code",
   "execution_count": 111,
   "id": "collect-steam",
   "metadata": {},
   "outputs": [],
   "source": [
    "root = '/mnt/tank/scratch/tpolevaya/datasets/pytorch'\n",
    "_normalize = TF.Normalize(mean=[0.485, 0.456, 0.406], std=[0.229, 0.224, 0.225])\n",
    "tfm = TF.Compose([TF.ToTensor(), TF.Resize((224,224)), _normalize])\n",
    "cifar_trn = torchvision.datasets.CIFAR10(root=root, train=True, transform=tfm)\n",
    "cifar_test = torchvision.datasets.CIFAR10(root=root, train=False, transform=tfm)"
   ]
  },
  {
   "cell_type": "code",
   "execution_count": 117,
   "id": "derived-wagon",
   "metadata": {},
   "outputs": [],
   "source": [
    "ood_dl = torch.utils.data.DataLoader(cifar_test, batch_size=10, shuffle=False)"
   ]
  },
  {
   "cell_type": "code",
   "execution_count": 118,
   "id": "neutral-accreditation",
   "metadata": {},
   "outputs": [],
   "source": [
    "b = next(iter(ood_dl))"
   ]
  },
  {
   "cell_type": "code",
   "execution_count": 119,
   "id": "frequent-fisher",
   "metadata": {},
   "outputs": [
    {
     "data": {
      "text/plain": [
       "torch.Size([10, 3, 224, 224])"
      ]
     },
     "execution_count": 119,
     "metadata": {},
     "output_type": "execute_result"
    }
   ],
   "source": [
    "b[0].shape"
   ]
  },
  {
   "cell_type": "code",
   "execution_count": 120,
   "id": "happy-flooring",
   "metadata": {},
   "outputs": [
    {
     "name": "stderr",
     "output_type": "stream",
     "text": [
      "Clipping input data to the valid range for imshow with RGB data ([0..1] for floats or [0..255] for integers).\n"
     ]
    },
    {
     "data": {
      "text/plain": [
       "<matplotlib.image.AxesImage at 0x7fbb305b7c18>"
      ]
     },
     "execution_count": 120,
     "metadata": {},
     "output_type": "execute_result"
    },
    {
     "data": {
      "image/png": "[encoded data removed]",
      "text/plain": [
       "<Figure size 432x288 with 1 Axes>"
      ]
     },
     "metadata": {
      "needs_background": "light"
     },
     "output_type": "display_data"
    }
   ],
   "source": [
    "plt.imshow(torchvision.utils.make_grid(b[0][:4]).movedim(0, -1))"
   ]
  },
  {
   "cell_type": "code",
   "execution_count": 121,
   "id": "committed-flexibility",
   "metadata": {},
   "outputs": [
    {
     "data": {
      "application/vnd.jupyter.widget-view+json": {
       "model_id": "a5756729c6ee4188a33594643e545c3c",
       "version_major": 2,
       "version_minor": 0
      },
      "text/plain": [
       "  0%|          | 0/5 [00:00<?, ?it/s]"
      ]
     },
     "metadata": {},
     "output_type": "display_data"
    },
    {
     "data": {
      "application/vnd.jupyter.widget-view+json": {
       "model_id": "",
       "version_major": 2,
       "version_minor": 0
      },
      "text/plain": [
       "Inference:   0%|          | 0/1000 [00:00<?, ?it/s]"
      ]
     },
     "metadata": {},
     "output_type": "display_data"
    },
    {
     "data": {
      "application/vnd.jupyter.widget-view+json": {
       "model_id": "",
       "version_major": 2,
       "version_minor": 0
      },
      "text/plain": [
       "Inference:   0%|          | 0/1000 [00:00<?, ?it/s]"
      ]
     },
     "metadata": {},
     "output_type": "display_data"
    },
    {
     "data": {
      "application/vnd.jupyter.widget-view+json": {
       "model_id": "",
       "version_major": 2,
       "version_minor": 0
      },
      "text/plain": [
       "Inference:   0%|          | 0/1000 [00:00<?, ?it/s]"
      ]
     },
     "metadata": {},
     "output_type": "display_data"
    },
    {
     "data": {
      "application/vnd.jupyter.widget-view+json": {
       "model_id": "",
       "version_major": 2,
       "version_minor": 0
      },
      "text/plain": [
       "Inference:   0%|          | 0/1000 [00:00<?, ?it/s]"
      ]
     },
     "metadata": {},
     "output_type": "display_data"
    },
    {
     "data": {
      "application/vnd.jupyter.widget-view+json": {
       "model_id": "",
       "version_major": 2,
       "version_minor": 0
      },
      "text/plain": [
       "Inference:   0%|          | 0/1000 [00:00<?, ?it/s]"
      ]
     },
     "metadata": {},
     "output_type": "display_data"
    }
   ],
   "source": [
    "f_predictions = [inference(m, ood_dl, device) for m in tqdm(models)]\n",
    "\n",
    "f_probs = [_[0] for _ in f_predictions]\n",
    "f_labels = [_[1] for _ in f_predictions]"
   ]
  },
  {
   "cell_type": "code",
   "execution_count": 122,
   "id": "classical-portugal",
   "metadata": {},
   "outputs": [],
   "source": [
    "f_expected_probs = get_expected(f_probs)\n",
    "f_entropy_of_expected = get_entropy(f_expected_probs)\n",
    "f_expected_entropy = get_expected([get_entropy(_) for _ in f_probs])"
   ]
  },
  {
   "cell_type": "code",
   "execution_count": 123,
   "id": "satisfied-dutch",
   "metadata": {},
   "outputs": [],
   "source": [
    "f_totalU = f_entropy_of_expected\n",
    "f_dataU = f_expected_entropy\n",
    "f_knowU = f_totalU - f_dataU"
   ]
  },
  {
   "cell_type": "code",
   "execution_count": 124,
   "id": "sophisticated-capital",
   "metadata": {},
   "outputs": [],
   "source": [
    "f_ensemble_preds = np.argmax(f_expected_probs, axis=-1)\n",
    "f_errors = (f_ensemble_preds != f_labels[0])"
   ]
  },
  {
   "cell_type": "markdown",
   "id": "together-yugoslavia",
   "metadata": {},
   "source": [
    "### probs on in_d around 0 and 1, on OOD in between (closer to 0)"
   ]
  },
  {
   "cell_type": "code",
   "execution_count": 125,
   "id": "verified-transcription",
   "metadata": {},
   "outputs": [
    {
     "name": "stderr",
     "output_type": "stream",
     "text": [
      "/mnt/tank/scratch/tpolevaya/miniconda3/envs/derm-dis-morph/lib/python3.6/site-packages/seaborn/distributions.py:2557: FutureWarning: `distplot` is a deprecated function and will be removed in a future version. Please adapt your code to use either `displot` (a figure-level function with similar flexibility) or `histplot` (an axes-level function for histograms).\n",
      "  warnings.warn(msg, FutureWarning)\n",
      "/mnt/tank/scratch/tpolevaya/miniconda3/envs/derm-dis-morph/lib/python3.6/site-packages/seaborn/distributions.py:2557: FutureWarning: `distplot` is a deprecated function and will be removed in a future version. Please adapt your code to use either `displot` (a figure-level function with similar flexibility) or `histplot` (an axes-level function for histograms).\n",
      "  warnings.warn(msg, FutureWarning)\n"
     ]
    },
    {
     "data": {
      "text/plain": [
       "<matplotlib.legend.Legend at 0x7fbb3062f978>"
      ]
     },
     "execution_count": 125,
     "metadata": {},
     "output_type": "execute_result"
    },
    {
     "data": {
      "image/png": "[encoded data removed]",
      "text/plain": [
       "<Figure size 432x288 with 1 Axes>"
      ]
     },
     "metadata": {
      "needs_background": "light"
     },
     "output_type": "display_data"
    }
   ],
   "source": [
    "fig = plt.figure(figsize=(6,4))\n",
    "sns.distplot(expected_probs.flatten(), label='skin', bins=40)\n",
    "sns.distplot(f_expected_probs.flatten(), label='cifar', bins=40)\n",
    "plt.title(\"Distributions of mean likelihood in ensemble for all classes in two datasets\", fontsize=18)\n",
    "plt.legend(fontsize=18)"
   ]
  },
  {
   "cell_type": "markdown",
   "id": "material-bahrain",
   "metadata": {},
   "source": [
    "### knowU on id_d ~ 0 << on OOD"
   ]
  },
  {
   "cell_type": "code",
   "execution_count": 127,
   "id": "magnetic-turning",
   "metadata": {},
   "outputs": [
    {
     "name": "stderr",
     "output_type": "stream",
     "text": [
      "/mnt/tank/scratch/tpolevaya/miniconda3/envs/derm-dis-morph/lib/python3.6/site-packages/seaborn/distributions.py:2557: FutureWarning: `distplot` is a deprecated function and will be removed in a future version. Please adapt your code to use either `displot` (a figure-level function with similar flexibility) or `histplot` (an axes-level function for histograms).\n",
      "  warnings.warn(msg, FutureWarning)\n",
      "/mnt/tank/scratch/tpolevaya/miniconda3/envs/derm-dis-morph/lib/python3.6/site-packages/seaborn/distributions.py:2557: FutureWarning: `distplot` is a deprecated function and will be removed in a future version. Please adapt your code to use either `displot` (a figure-level function with similar flexibility) or `histplot` (an axes-level function for histograms).\n",
      "  warnings.warn(msg, FutureWarning)\n"
     ]
    },
    {
     "data": {
      "text/plain": [
       "<matplotlib.legend.Legend at 0x7fbb09e6dc88>"
      ]
     },
     "execution_count": 127,
     "metadata": {},
     "output_type": "execute_result"
    },
    {
     "data": {
      "image/png": "[encoded data removed]",
      "text/plain": [
       "<Figure size 432x288 with 1 Axes>"
      ]
     },
     "metadata": {
      "needs_background": "light"
     },
     "output_type": "display_data"
    }
   ],
   "source": [
    "fig = plt.figure(figsize=(6,4))\n",
    "sns.distplot(knowU, label='skin', bins=40)\n",
    "sns.distplot(f_knowU, label='cifar', bins=40)\n",
    "plt.title(\"Distributions of knowledge uncertainty for two datasets\", fontsize=18)\n",
    "plt.legend(fontsize=18)"
   ]
  },
  {
   "cell_type": "markdown",
   "id": "expected-speaking",
   "metadata": {},
   "source": [
    "### OOD detection"
   ]
  },
  {
   "cell_type": "code",
   "execution_count": 128,
   "id": "identified-constraint",
   "metadata": {},
   "outputs": [],
   "source": [
    "from sklearn.metrics import roc_auc_score"
   ]
  },
  {
   "cell_type": "code",
   "execution_count": 130,
   "id": "victorian-cemetery",
   "metadata": {},
   "outputs": [],
   "source": [
    "N, f_N = totalU.shape[0], f_totalU.shape[0]"
   ]
  },
  {
   "cell_type": "code",
   "execution_count": 132,
   "id": "aquatic-meeting",
   "metadata": {},
   "outputs": [],
   "source": [
    "y_true = np.zeros(N+f_N)\n",
    "y_true[f_N:] = 1\n",
    "knowledge_scores = np.hstack([knowU, f_knowU])\n",
    "data_scores = np.hstack([dataU, f_dataU])\n",
    "total_scores = np.hstack([totalU, f_totalU])"
   ]
  },
  {
   "cell_type": "code",
   "execution_count": 133,
   "id": "plain-linux",
   "metadata": {},
   "outputs": [
    {
     "name": "stdout",
     "output_type": "stream",
     "text": [
      "ROC-AUC score with knowledge uncertainty: 0.5506279440468445\n",
      "ROC-AUC score with data uncertainty: 0.5729522446324008\n",
      "ROC-AUC score with total uncertainty: 0.5680045543266102\n"
     ]
    }
   ],
   "source": [
    "print(f'ROC-AUC score with knowledge uncertainty: {roc_auc_score(y_true, knowledge_scores)}')\n",
    "print(f'ROC-AUC score with data uncertainty: {roc_auc_score(y_true, data_scores)}')\n",
    "print(f'ROC-AUC score with total uncertainty: {roc_auc_score(y_true, total_scores)}')"
   ]
  }
 ],
 "metadata": {
  "kernelspec": {
   "display_name": "derm-dis-morph",
   "language": "python",
   "name": "derm-dis-morph"
  },
  "language_info": {
   "codemirror_mode": {
    "name": "ipython",
    "version": 3
   },
   "file_extension": ".py",
   "mimetype": "text/x-python",
   "name": "python",
   "nbconvert_exporter": "python",
   "pygments_lexer": "ipython3",
   "version": "3.6.12"
  }
 },
 "nbformat": 4,
 "nbformat_minor": 5
}
