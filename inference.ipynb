{
 "cells": [
  {
   "cell_type": "code",
   "execution_count": 1,
   "id": "dressed-damage",
   "metadata": {},
   "outputs": [],
   "source": [
    "from data_specific import *\n",
    "import model_creating, metrics\n",
    "import torch, torch.nn as nn\n",
    "import inference"
   ]
  },
  {
   "cell_type": "code",
   "execution_count": 2,
   "id": "electric-registrar",
   "metadata": {},
   "outputs": [],
   "source": [
    "device = torch.device(f'cuda:1')"
   ]
  },
  {
   "cell_type": "code",
   "execution_count": 3,
   "id": "continuous-imaging",
   "metadata": {},
   "outputs": [
    {
     "name": "stdout",
     "output_type": "stream",
     "text": [
      "Using datasets:  gsa, ulb, atlas_derm, hellenic, dermnetnz\n",
      "Hadling 7682 data instances\n"
     ]
    },
    {
     "data": {
      "application/vnd.jupyter.widget-view+json": {
       "model_id": "214facb9719d4938a1afe7e77359bfce",
       "version_major": 2,
       "version_minor": 0
      },
      "text/plain": [
       "  0%|          | 0/1537 [00:00<?, ?it/s]"
      ]
     },
     "metadata": {},
     "output_type": "display_data"
    }
   ],
   "source": [
    "# get image\n",
    "data = Data.Diseases\n",
    "ds_create_fn = get_ds_create_fn(data)\n",
    "val_ds = ds_create_fn(trn_augm=None, is_demo=False, fold=None, size=448, only_val=True)\n",
    "img = val_ds.imgs[val_ds.idxs[0]]"
   ]
  },
  {
   "cell_type": "code",
   "execution_count": 4,
   "id": "minor-orchestra",
   "metadata": {},
   "outputs": [],
   "source": [
    "# load models\n",
    "m = model_creating.load_model('logs/weights/run_20210606_133148', get_num_classes(data), device)\n",
    "fldrs = ['logs/weights/run_20210606_133148',\n",
    "         'logs/weights/run_20210606_133109',\n",
    "         'logs/weights/run_20210606_133100']\n",
    "models = [model_creating.load_model(fldr, get_num_classes(data), device) for fldr in fldrs]"
   ]
  },
  {
   "cell_type": "code",
   "execution_count": 5,
   "id": "mexican-undergraduate",
   "metadata": {},
   "outputs": [],
   "source": [
    "class_mode = get_class_mode(data)"
   ]
  },
  {
   "cell_type": "code",
   "execution_count": 6,
   "id": "particular-indianapolis",
   "metadata": {},
   "outputs": [
    {
     "data": {
      "text/plain": [
       "array([[9.0617714e-03, 2.3503024e-02, 9.0526586e-04, 6.2592393e-01,\n",
       "        4.1873446e-03, 3.4166786e-03, 2.8168413e-04, 4.1375219e-04,\n",
       "        9.3828082e-02, 1.3002114e-03, 1.9172738e-01, 1.2095366e-04,\n",
       "        3.7416938e-04, 4.3113928e-04, 2.7113544e-02, 4.0981910e-04,\n",
       "        2.4644292e-03, 7.1105463e-03, 8.0710591e-04, 6.6192057e-03]],\n",
       "      dtype=float32)"
      ]
     },
     "execution_count": 6,
     "metadata": {},
     "output_type": "execute_result"
    }
   ],
   "source": [
    "inference.vanilla_predict(device, img, m, class_mode)"
   ]
  },
  {
   "cell_type": "code",
   "execution_count": 7,
   "id": "higher-american",
   "metadata": {},
   "outputs": [
    {
     "data": {
      "text/plain": [
       "array([[7.3614377e-03, 1.3957809e-02, 1.4502389e-03, 6.0488147e-01,\n",
       "        1.0500483e-02, 3.4407403e-03, 5.6452624e-04, 4.6124440e-04,\n",
       "        6.8226367e-02, 2.4072181e-03, 2.2133674e-01, 1.3262003e-04,\n",
       "        3.9814838e-04, 7.0465112e-04, 4.8161879e-02, 5.4548820e-04,\n",
       "        2.4087222e-03, 5.1277592e-03, 7.0529245e-04, 7.2271973e-03],\n",
       "       [7.3614377e-03, 1.3957809e-02, 1.4502389e-03, 6.0488147e-01,\n",
       "        1.0500483e-02, 3.4407403e-03, 5.6452624e-04, 4.6124440e-04,\n",
       "        6.8226367e-02, 2.4072181e-03, 2.2133674e-01, 1.3262003e-04,\n",
       "        3.9814838e-04, 7.0465112e-04, 4.8161879e-02, 5.4548820e-04,\n",
       "        2.4087222e-03, 5.1277592e-03, 7.0529245e-04, 7.2271973e-03],\n",
       "       [9.0617752e-03, 2.3503035e-02, 9.0526580e-04, 6.2592387e-01,\n",
       "        4.1873441e-03, 3.4166784e-03, 2.8168413e-04, 4.1375216e-04,\n",
       "        9.3828082e-02, 1.3002119e-03, 1.9172737e-01, 1.2095365e-04,\n",
       "        3.7416935e-04, 4.3113946e-04, 2.7113542e-02, 4.0981924e-04,\n",
       "        2.4644290e-03, 7.1105459e-03, 8.0710585e-04, 6.6192052e-03],\n",
       "       [7.3614377e-03, 1.3957809e-02, 1.4502389e-03, 6.0488147e-01,\n",
       "        1.0500483e-02, 3.4407403e-03, 5.6452624e-04, 4.6124440e-04,\n",
       "        6.8226367e-02, 2.4072181e-03, 2.2133674e-01, 1.3262003e-04,\n",
       "        3.9814838e-04, 7.0465112e-04, 4.8161879e-02, 5.4548820e-04,\n",
       "        2.4087222e-03, 5.1277592e-03, 7.0529245e-04, 7.2271973e-03],\n",
       "       [9.0617752e-03, 2.3503035e-02, 9.0526580e-04, 6.2592387e-01,\n",
       "        4.1873441e-03, 3.4166784e-03, 2.8168413e-04, 4.1375216e-04,\n",
       "        9.3828082e-02, 1.3002119e-03, 1.9172737e-01, 1.2095365e-04,\n",
       "        3.7416935e-04, 4.3113946e-04, 2.7113542e-02, 4.0981924e-04,\n",
       "        2.4644290e-03, 7.1105459e-03, 8.0710585e-04, 6.6192052e-03],\n",
       "       [9.0617752e-03, 2.3503035e-02, 9.0526580e-04, 6.2592387e-01,\n",
       "        4.1873441e-03, 3.4166784e-03, 2.8168413e-04, 4.1375216e-04,\n",
       "        9.3828082e-02, 1.3002119e-03, 1.9172737e-01, 1.2095365e-04,\n",
       "        3.7416935e-04, 4.3113946e-04, 2.7113542e-02, 4.0981924e-04,\n",
       "        2.4644290e-03, 7.1105459e-03, 8.0710585e-04, 6.6192052e-03]],\n",
       "      dtype=float32)"
      ]
     },
     "execution_count": 7,
     "metadata": {},
     "output_type": "execute_result"
    }
   ],
   "source": [
    "inference.TTA_predict(device, img, m, class_mode, 'hflip', 6)"
   ]
  },
  {
   "cell_type": "code",
   "execution_count": 8,
   "id": "fossil-cleanup",
   "metadata": {},
   "outputs": [
    {
     "data": {
      "text/plain": [
       "array([[9.06177144e-03, 2.35030241e-02, 9.05265857e-04, 6.25923932e-01,\n",
       "        4.18734457e-03, 3.41667864e-03, 2.81684130e-04, 4.13752190e-04,\n",
       "        9.38280821e-02, 1.30021141e-03, 1.91727385e-01, 1.20953657e-04,\n",
       "        3.74169380e-04, 4.31139284e-04, 2.71135438e-02, 4.09819098e-04,\n",
       "        2.46442924e-03, 7.11054634e-03, 8.07105913e-04, 6.61920570e-03],\n",
       "       [6.01246301e-03, 7.84566328e-02, 2.76651024e-03, 2.73052067e-01,\n",
       "        5.38853556e-02, 2.91229431e-02, 2.74779107e-02, 6.08229032e-03,\n",
       "        3.01038951e-01, 2.35580746e-03, 2.33612284e-02, 1.05303584e-03,\n",
       "        4.16968204e-03, 6.30937750e-03, 2.50401106e-02, 2.63778050e-03,\n",
       "        1.13752000e-02, 9.58913006e-03, 1.01774018e-02, 1.26036137e-01],\n",
       "       [3.37326713e-02, 1.84919890e-02, 1.81467645e-02, 1.29326433e-01,\n",
       "        5.50648794e-02, 1.48002654e-02, 3.04586180e-02, 5.48481662e-03,\n",
       "        2.66574353e-01, 1.10075325e-02, 8.24164078e-02, 5.36673702e-03,\n",
       "        8.59242305e-03, 4.33312310e-03, 8.04769397e-02, 1.12186298e-02,\n",
       "        1.73663292e-02, 6.45561963e-02, 1.23905884e-02, 1.30194262e-01]],\n",
       "      dtype=float32)"
      ]
     },
     "execution_count": 8,
     "metadata": {},
     "output_type": "execute_result"
    }
   ],
   "source": [
    "inference.ensemble_predict(device, img ,models, class_mode)"
   ]
  }
 ],
 "metadata": {
  "kernelspec": {
   "display_name": "derm-dis-morph",
   "language": "python",
   "name": "derm-dis-morph"
  },
  "language_info": {
   "codemirror_mode": {
    "name": "ipython",
    "version": 3
   },
   "file_extension": ".py",
   "mimetype": "text/x-python",
   "name": "python",
   "nbconvert_exporter": "python",
   "pygments_lexer": "ipython3",
   "version": "3.6.12"
  }
 },
 "nbformat": 4,
 "nbformat_minor": 5
}
